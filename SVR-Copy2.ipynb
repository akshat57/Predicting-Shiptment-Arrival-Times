{
 "cells": [
  {
   "cell_type": "code",
   "execution_count": 8,
   "metadata": {},
   "outputs": [
    {
     "name": "stdout",
     "output_type": "stream",
     "text": [
      "Collecting xgboost\n",
      "  Using cached xgboost-1.3.0.post0-py3-none-manylinux2010_x86_64.whl (157.5 MB)\n",
      "Requirement already satisfied: scipy in /opt/conda/lib/python3.7/site-packages (from xgboost) (1.4.1)\n",
      "Requirement already satisfied: numpy in /opt/conda/lib/python3.7/site-packages (from xgboost) (1.18.2)\n",
      "Installing collected packages: xgboost\n",
      "Successfully installed xgboost-1.3.0.post0\n"
     ]
    }
   ],
   "source": [
    "!pip install xgboost"
   ]
  },
  {
   "cell_type": "code",
   "execution_count": 9,
   "metadata": {},
   "outputs": [],
   "source": [
    "import os\n",
    "import pandas as pd\n",
    "import matplotlib.pyplot as plt\n",
    "import numpy as np\n",
    "from datetime import datetime\n",
    "import seaborn as sns\n",
    "from sklearn.cluster import DBSCAN\n",
    "import pickle\n",
    "import time\n",
    "from sklearn.linear_model import LinearRegression\n",
    "import random\n",
    "from sklearn.svm import SVR\n",
    "from sklearn.pipeline import make_pipeline\n",
    "from sklearn.preprocessing import StandardScaler\n",
    "from sklearn.ensemble import RandomForestRegressor\n",
    "from sklearn.datasets import make_regression\n",
    "import xgboost as xgb"
   ]
  },
  {
   "cell_type": "code",
   "execution_count": 10,
   "metadata": {},
   "outputs": [],
   "source": [
    "def load_data(filename):\n",
    "    a_file = open(filename, \"rb\")\n",
    "    output = pickle.load(a_file)\n",
    "    a_file.close()\n",
    "    \n",
    "    return output\n",
    "\n",
    "def save_data(filename, data):\n",
    "    a_file = open(filename, \"wb\")\n",
    "    pickle.dump(data, a_file)\n",
    "    a_file.close()"
   ]
  },
  {
   "cell_type": "code",
   "execution_count": 11,
   "metadata": {},
   "outputs": [],
   "source": [
    "train_data = load_data('Processed_Data/eventime_train_set.pkl')\n",
    "test_data = load_data('Processed_Data/eventime_test_set.pkl')"
   ]
  },
  {
   "cell_type": "code",
   "execution_count": 12,
   "metadata": {},
   "outputs": [],
   "source": [
    "input_dim = 100\n",
    "X_lat = []\n",
    "Y_lat = []\n",
    "X_long = []\n",
    "Y_long = []\n",
    "for i, traj in enumerate(train_data):\n",
    "    index = random.randint(0, len(train_data) - 1)\n",
    "    traj = train_data[index]\n",
    "    lat = traj[0]\n",
    "    long = traj[1]\n",
    "    \n",
    "    if len(lat) > 2 * input_dim:\n",
    "        for i in range(len(lat) - input_dim):\n",
    "            X_lat.append(lat[i:i+input_dim])\n",
    "            Y_lat.append(lat[i+input_dim])\n",
    "            \n",
    "            X_long.append(long[i:i+input_dim])\n",
    "            Y_long.append(long[i+input_dim])\n",
    "            \n",
    "    if len(X_long) > 10000:\n",
    "        break"
   ]
  },
  {
   "cell_type": "code",
   "execution_count": 13,
   "metadata": {},
   "outputs": [
    {
     "name": "stdout",
     "output_type": "stream",
     "text": [
      "(14206, 100) (14206,)\n"
     ]
    }
   ],
   "source": [
    "X_lat = np.array(X_lat)\n",
    "Y_lat = np.array(Y_lat)\n",
    "X_long = np.array(X_long)\n",
    "Y_long = np.array(Y_long)\n",
    "print(X_lat.shape, Y_lat.shape)"
   ]
  },
  {
   "cell_type": "code",
   "execution_count": 16,
   "metadata": {},
   "outputs": [
    {
     "data": {
      "text/plain": [
       "XGBRegressor(alpha=10, base_score=0.5, booster='gbtree', colsample_bylevel=1,\n",
       "             colsample_bynode=1, colsample_bytree=0.85, gamma=0, gpu_id=-1,\n",
       "             importance_type='gain', interaction_constraints='',\n",
       "             learning_rate=0.300000012, max_delta_step=0, max_depth=50,\n",
       "             min_child_weight=1, missing=nan, monotone_constraints='()',\n",
       "             n_estimators=40, n_jobs=8, num_parallel_tree=1,\n",
       "             objective='reg:squarederror', random_state=42, reg_alpha=10,\n",
       "             reg_lambda=1, scale_pos_weight=1, seed=42, subsample=1,\n",
       "             tree_method='exact', validate_parameters=1, verbosity=None)"
      ]
     },
     "execution_count": 16,
     "metadata": {},
     "output_type": "execute_result"
    }
   ],
   "source": [
    "reg_lat = xgb.XGBRegressor(objective ='reg:squarederror', \n",
    "                          booster = 'gbtree',\n",
    "                          colsample_bytree = 0.85, \n",
    "                          max_depth = 50, \n",
    "                          alpha = 10, \n",
    "                          n_estimators = 40, \n",
    "                          seed = 42)\n",
    "reg_lat.fit(X_lat, Y_lat)"
   ]
  },
  {
   "cell_type": "code",
   "execution_count": 17,
   "metadata": {},
   "outputs": [
    {
     "data": {
      "text/plain": [
       "XGBRegressor(alpha=10, base_score=0.5, booster='gbtree', colsample_bylevel=1,\n",
       "             colsample_bynode=1, colsample_bytree=0.85, gamma=0, gpu_id=-1,\n",
       "             importance_type='gain', interaction_constraints='',\n",
       "             learning_rate=0.300000012, max_delta_step=0, max_depth=50,\n",
       "             min_child_weight=1, missing=nan, monotone_constraints='()',\n",
       "             n_estimators=40, n_jobs=8, num_parallel_tree=1,\n",
       "             objective='reg:squarederror', random_state=42, reg_alpha=10,\n",
       "             reg_lambda=1, scale_pos_weight=1, seed=42, subsample=1,\n",
       "             tree_method='exact', validate_parameters=1, verbosity=None)"
      ]
     },
     "execution_count": 17,
     "metadata": {},
     "output_type": "execute_result"
    }
   ],
   "source": [
    "reg_long = xgb.XGBRegressor(objective ='reg:squarederror', \n",
    "                          booster = 'gbtree',\n",
    "                          colsample_bytree = 0.85, \n",
    "                          max_depth = 50, \n",
    "                          alpha = 10, \n",
    "                          n_estimators = 40, \n",
    "                          seed = 42)\n",
    "reg_long.fit(X_long, Y_long)"
   ]
  },
  {
   "cell_type": "code",
   "execution_count": 20,
   "metadata": {},
   "outputs": [
    {
     "name": "stdout",
     "output_type": "stream",
     "text": [
      "0 0 0\n",
      "Entered\n",
      "Here\n",
      "0.0\n",
      "1 1 0\n",
      "Entered\n",
      "Here\n",
      "0.0\n",
      "2 2 0\n",
      "Entered\n",
      "Here\n",
      "0.0\n",
      "3 3 0\n",
      "4 3 0\n",
      "Entered\n",
      "Here\n",
      "0.0\n",
      "5 4 0\n",
      "Entered\n",
      "Here\n",
      "0.27253381824446077\n",
      "6 5 0\n",
      "Entered\n",
      "Here\n",
      "0.0\n",
      "7 6 0\n",
      "Entered\n",
      "Here\n",
      "0.0\n",
      "8 7 0\n",
      "Entered\n",
      "Here\n",
      "0.0\n",
      "9 8 0\n",
      "Entered\n",
      "Here\n",
      "0.0\n",
      "10 9 0\n",
      "Entered\n"
     ]
    },
    {
     "ename": "KeyboardInterrupt",
     "evalue": "",
     "output_type": "error",
     "traceback": [
      "\u001b[0;31m---------------------------------------------------------------------------\u001b[0m",
      "\u001b[0;31mKeyboardInterrupt\u001b[0m                         Traceback (most recent call last)",
      "\u001b[0;32m<ipython-input-20-0e0d514d1117>\u001b[0m in \u001b[0;36m<module>\u001b[0;34m\u001b[0m\n\u001b[1;32m     23\u001b[0m         \u001b[0mX\u001b[0m \u001b[0;34m=\u001b[0m \u001b[0mnp\u001b[0m\u001b[0;34m.\u001b[0m\u001b[0marray\u001b[0m\u001b[0;34m(\u001b[0m\u001b[0mlat\u001b[0m\u001b[0;34m[\u001b[0m\u001b[0;34m:\u001b[0m\u001b[0minput_dim\u001b[0m\u001b[0;34m]\u001b[0m\u001b[0;34m)\u001b[0m\u001b[0;34m.\u001b[0m\u001b[0mreshape\u001b[0m\u001b[0;34m(\u001b[0m\u001b[0;36m1\u001b[0m\u001b[0;34m,\u001b[0m\u001b[0;34m-\u001b[0m\u001b[0;36m1\u001b[0m\u001b[0;34m)\u001b[0m\u001b[0;34m\u001b[0m\u001b[0;34m\u001b[0m\u001b[0m\n\u001b[1;32m     24\u001b[0m         \u001b[0;32mfor\u001b[0m \u001b[0mi\u001b[0m \u001b[0;32min\u001b[0m \u001b[0mrange\u001b[0m\u001b[0;34m(\u001b[0m\u001b[0mlen\u001b[0m\u001b[0;34m(\u001b[0m\u001b[0mlat\u001b[0m\u001b[0;34m)\u001b[0m \u001b[0;34m-\u001b[0m \u001b[0minput_dim\u001b[0m\u001b[0;34m)\u001b[0m\u001b[0;34m:\u001b[0m\u001b[0;34m\u001b[0m\u001b[0;34m\u001b[0m\u001b[0m\n\u001b[0;32m---> 25\u001b[0;31m             \u001b[0mpred_lat\u001b[0m\u001b[0;34m.\u001b[0m\u001b[0mappend\u001b[0m\u001b[0;34m(\u001b[0m\u001b[0mreg_lat\u001b[0m\u001b[0;34m.\u001b[0m\u001b[0mpredict\u001b[0m\u001b[0;34m(\u001b[0m\u001b[0mX\u001b[0m\u001b[0;34m)\u001b[0m\u001b[0;34m[\u001b[0m\u001b[0;36m0\u001b[0m\u001b[0;34m]\u001b[0m\u001b[0;34m)\u001b[0m\u001b[0;34m\u001b[0m\u001b[0;34m\u001b[0m\u001b[0m\n\u001b[0m\u001b[1;32m     26\u001b[0m             \u001b[0mX\u001b[0m \u001b[0;34m=\u001b[0m \u001b[0mlist\u001b[0m\u001b[0;34m(\u001b[0m\u001b[0mnp\u001b[0m\u001b[0;34m.\u001b[0m\u001b[0msqueeze\u001b[0m\u001b[0;34m(\u001b[0m\u001b[0mX\u001b[0m\u001b[0;34m,\u001b[0m \u001b[0maxis\u001b[0m \u001b[0;34m=\u001b[0m \u001b[0;36m0\u001b[0m\u001b[0;34m)\u001b[0m\u001b[0;34m)\u001b[0m\u001b[0;34m[\u001b[0m\u001b[0;36m1\u001b[0m\u001b[0;34m:\u001b[0m\u001b[0;34m]\u001b[0m \u001b[0;34m+\u001b[0m \u001b[0;34m[\u001b[0m\u001b[0mpred_lat\u001b[0m\u001b[0;34m[\u001b[0m\u001b[0;34m-\u001b[0m\u001b[0;36m1\u001b[0m\u001b[0;34m]\u001b[0m\u001b[0;34m]\u001b[0m\u001b[0;34m\u001b[0m\u001b[0;34m\u001b[0m\u001b[0m\n\u001b[1;32m     27\u001b[0m             \u001b[0mX\u001b[0m \u001b[0;34m=\u001b[0m \u001b[0mnp\u001b[0m\u001b[0;34m.\u001b[0m\u001b[0marray\u001b[0m\u001b[0;34m(\u001b[0m\u001b[0mX\u001b[0m\u001b[0;34m)\u001b[0m\u001b[0;34m.\u001b[0m\u001b[0mreshape\u001b[0m\u001b[0;34m(\u001b[0m\u001b[0;36m1\u001b[0m\u001b[0;34m,\u001b[0m\u001b[0;34m-\u001b[0m\u001b[0;36m1\u001b[0m\u001b[0;34m)\u001b[0m\u001b[0;34m\u001b[0m\u001b[0;34m\u001b[0m\u001b[0m\n",
      "\u001b[0;32m/opt/conda/lib/python3.7/site-packages/xgboost/sklearn.py\u001b[0m in \u001b[0;36mpredict\u001b[0;34m(self, data, output_margin, ntree_limit, validate_features, base_margin)\u001b[0m\n\u001b[1;32m    656\u001b[0m                                           \u001b[0moutput_margin\u001b[0m\u001b[0;34m=\u001b[0m\u001b[0moutput_margin\u001b[0m\u001b[0;34m,\u001b[0m\u001b[0;34m\u001b[0m\u001b[0;34m\u001b[0m\u001b[0m\n\u001b[1;32m    657\u001b[0m                                           \u001b[0mntree_limit\u001b[0m\u001b[0;34m=\u001b[0m\u001b[0mntree_limit\u001b[0m\u001b[0;34m,\u001b[0m\u001b[0;34m\u001b[0m\u001b[0;34m\u001b[0m\u001b[0m\n\u001b[0;32m--> 658\u001b[0;31m                                           validate_features=validate_features)\n\u001b[0m\u001b[1;32m    659\u001b[0m \u001b[0;34m\u001b[0m\u001b[0m\n\u001b[1;32m    660\u001b[0m     \u001b[0;32mdef\u001b[0m \u001b[0mapply\u001b[0m\u001b[0;34m(\u001b[0m\u001b[0mself\u001b[0m\u001b[0;34m,\u001b[0m \u001b[0mX\u001b[0m\u001b[0;34m,\u001b[0m \u001b[0mntree_limit\u001b[0m\u001b[0;34m=\u001b[0m\u001b[0;36m0\u001b[0m\u001b[0;34m)\u001b[0m\u001b[0;34m:\u001b[0m\u001b[0;34m\u001b[0m\u001b[0;34m\u001b[0m\u001b[0m\n",
      "\u001b[0;32m/opt/conda/lib/python3.7/site-packages/xgboost/core.py\u001b[0m in \u001b[0;36mpredict\u001b[0;34m(self, data, output_margin, ntree_limit, pred_leaf, pred_contribs, approx_contribs, pred_interactions, validate_features, training)\u001b[0m\n\u001b[1;32m   1470\u001b[0m \u001b[0;34m\u001b[0m\u001b[0m\n\u001b[1;32m   1471\u001b[0m         \u001b[0;32mif\u001b[0m \u001b[0mvalidate_features\u001b[0m\u001b[0;34m:\u001b[0m\u001b[0;34m\u001b[0m\u001b[0;34m\u001b[0m\u001b[0m\n\u001b[0;32m-> 1472\u001b[0;31m             \u001b[0mself\u001b[0m\u001b[0;34m.\u001b[0m\u001b[0m_validate_features\u001b[0m\u001b[0;34m(\u001b[0m\u001b[0mdata\u001b[0m\u001b[0;34m)\u001b[0m\u001b[0;34m\u001b[0m\u001b[0;34m\u001b[0m\u001b[0m\n\u001b[0m\u001b[1;32m   1473\u001b[0m \u001b[0;34m\u001b[0m\u001b[0m\n\u001b[1;32m   1474\u001b[0m         \u001b[0mlength\u001b[0m \u001b[0;34m=\u001b[0m \u001b[0mc_bst_ulong\u001b[0m\u001b[0;34m(\u001b[0m\u001b[0;34m)\u001b[0m\u001b[0;34m\u001b[0m\u001b[0;34m\u001b[0m\u001b[0m\n",
      "\u001b[0;32m/opt/conda/lib/python3.7/site-packages/xgboost/core.py\u001b[0m in \u001b[0;36m_validate_features\u001b[0;34m(self, data)\u001b[0m\n\u001b[1;32m   2031\u001b[0m         \u001b[0;32melse\u001b[0m\u001b[0;34m:\u001b[0m\u001b[0;34m\u001b[0m\u001b[0;34m\u001b[0m\u001b[0m\n\u001b[1;32m   2032\u001b[0m             \u001b[0;31m# Booster can't accept data with different feature names\u001b[0m\u001b[0;34m\u001b[0m\u001b[0;34m\u001b[0m\u001b[0;34m\u001b[0m\u001b[0m\n\u001b[0;32m-> 2033\u001b[0;31m             \u001b[0;32mif\u001b[0m \u001b[0mself\u001b[0m\u001b[0;34m.\u001b[0m\u001b[0mfeature_names\u001b[0m \u001b[0;34m!=\u001b[0m \u001b[0mdata\u001b[0m\u001b[0;34m.\u001b[0m\u001b[0mfeature_names\u001b[0m\u001b[0;34m:\u001b[0m\u001b[0;34m\u001b[0m\u001b[0;34m\u001b[0m\u001b[0m\n\u001b[0m\u001b[1;32m   2034\u001b[0m                 \u001b[0mdat_missing\u001b[0m \u001b[0;34m=\u001b[0m \u001b[0mset\u001b[0m\u001b[0;34m(\u001b[0m\u001b[0mself\u001b[0m\u001b[0;34m.\u001b[0m\u001b[0mfeature_names\u001b[0m\u001b[0;34m)\u001b[0m \u001b[0;34m-\u001b[0m \u001b[0mset\u001b[0m\u001b[0;34m(\u001b[0m\u001b[0mdata\u001b[0m\u001b[0;34m.\u001b[0m\u001b[0mfeature_names\u001b[0m\u001b[0;34m)\u001b[0m\u001b[0;34m\u001b[0m\u001b[0;34m\u001b[0m\u001b[0m\n\u001b[1;32m   2035\u001b[0m                 \u001b[0mmy_missing\u001b[0m \u001b[0;34m=\u001b[0m \u001b[0mset\u001b[0m\u001b[0;34m(\u001b[0m\u001b[0mdata\u001b[0m\u001b[0;34m.\u001b[0m\u001b[0mfeature_names\u001b[0m\u001b[0;34m)\u001b[0m \u001b[0;34m-\u001b[0m \u001b[0mset\u001b[0m\u001b[0;34m(\u001b[0m\u001b[0mself\u001b[0m\u001b[0;34m.\u001b[0m\u001b[0mfeature_names\u001b[0m\u001b[0;34m)\u001b[0m\u001b[0;34m\u001b[0m\u001b[0;34m\u001b[0m\u001b[0m\n",
      "\u001b[0;32m/opt/conda/lib/python3.7/site-packages/xgboost/core.py\u001b[0m in \u001b[0;36mfeature_names\u001b[0;34m(self)\u001b[0m\n\u001b[1;32m    800\u001b[0m         \u001b[0;32mif\u001b[0m \u001b[0;32mnot\u001b[0m \u001b[0mfeature_names\u001b[0m\u001b[0;34m:\u001b[0m\u001b[0;34m\u001b[0m\u001b[0;34m\u001b[0m\u001b[0m\n\u001b[1;32m    801\u001b[0m             feature_names = ['f{0}'.format(i)\n\u001b[0;32m--> 802\u001b[0;31m                              for i in range(self.num_col())]\n\u001b[0m\u001b[1;32m    803\u001b[0m         \u001b[0;32mreturn\u001b[0m \u001b[0mfeature_names\u001b[0m\u001b[0;34m\u001b[0m\u001b[0;34m\u001b[0m\u001b[0m\n\u001b[1;32m    804\u001b[0m \u001b[0;34m\u001b[0m\u001b[0m\n",
      "\u001b[0;32m/opt/conda/lib/python3.7/site-packages/xgboost/core.py\u001b[0m in \u001b[0;36m<listcomp>\u001b[0;34m(.0)\u001b[0m\n\u001b[1;32m    800\u001b[0m         \u001b[0;32mif\u001b[0m \u001b[0;32mnot\u001b[0m \u001b[0mfeature_names\u001b[0m\u001b[0;34m:\u001b[0m\u001b[0;34m\u001b[0m\u001b[0;34m\u001b[0m\u001b[0m\n\u001b[1;32m    801\u001b[0m             feature_names = ['f{0}'.format(i)\n\u001b[0;32m--> 802\u001b[0;31m                              for i in range(self.num_col())]\n\u001b[0m\u001b[1;32m    803\u001b[0m         \u001b[0;32mreturn\u001b[0m \u001b[0mfeature_names\u001b[0m\u001b[0;34m\u001b[0m\u001b[0;34m\u001b[0m\u001b[0m\n\u001b[1;32m    804\u001b[0m \u001b[0;34m\u001b[0m\u001b[0m\n",
      "\u001b[0;31mKeyboardInterrupt\u001b[0m: "
     ]
    }
   ],
   "source": [
    "ratios = []\n",
    "n_blowups = 0\n",
    "success = 0\n",
    "processed = 0\n",
    "for k, _ in enumerate(test_data):\n",
    "    #if k%100 == 0:\n",
    "    print(k, success, n_blowups)\n",
    "    #index = random.randint(0, len(test_data) - 1)\n",
    "    index = k\n",
    "    traj = test_data[index]\n",
    "    \n",
    "    lat = traj[0]\n",
    "    long = traj[1]\n",
    "    pred_lat = []\n",
    "    pred_long = []\n",
    "    blowup = False\n",
    "    \n",
    "    if len(lat) > input_dim + 2:\n",
    "        print('Entered')\n",
    "        processed += 1\n",
    "        \n",
    "        #predicting latitude\n",
    "        X = np.array(lat[:input_dim]).reshape(1,-1)\n",
    "        for i in range(len(lat) - input_dim):\n",
    "            pred_lat.append(reg_lat.predict(X)[0])\n",
    "            X = list(np.squeeze(X, axis = 0))[1:] + [pred_lat[-1]]\n",
    "            X = np.array(X).reshape(1,-1)\n",
    "            \n",
    "            if abs(pred_lat[-1]) > 360:\n",
    "                blowup = True\n",
    "                break\n",
    "            \n",
    "        if blowup == True:\n",
    "            n_blowups += 1\n",
    "            continue\n",
    "            \n",
    "        #predicting latitude\n",
    "        X = np.array(long[:input_dim]).reshape(1,-1)\n",
    "        for i in range(len(long) - input_dim):\n",
    "            pred_long.append(reg_long.predict(X)[0])\n",
    "            X = list(np.squeeze(X, axis = 0))[1:] + [pred_long[-1]]\n",
    "            X = np.array(X).reshape(1,-1)\n",
    "            \n",
    "            if abs(pred_long[-1]) > 360:\n",
    "                blowup = True\n",
    "                break\n",
    "                \n",
    "        if blowup == True:\n",
    "            n_blowups += 1\n",
    "            continue\n",
    "            \n",
    "        \n",
    "        print('Here')\n",
    "        #Grouping results    \n",
    "        Y_lat = np.array(lat[input_dim:])\n",
    "        Y_long = np.array(long[input_dim:])\n",
    "        pred_lat = np.array(pred_lat)\n",
    "        pred_long = np.array(pred_long)\n",
    "        \n",
    "        lat_diff = np.sum(np.abs(np.diff(Y_lat)))\n",
    "        long_diff = np.sum(np.abs(np.diff(Y_long)))\n",
    "        path_len = lat_diff + long_diff\n",
    "        \n",
    "        lat_diff = np.sum(np.abs(np.diff(pred_lat)))\n",
    "        long_diff = np.sum(np.abs(np.diff(pred_long)))\n",
    "        pred_len = lat_diff + long_diff\n",
    "        \n",
    "        ratios.append(pred_len/path_len)\n",
    "        if ratios[-1] < 1.25:\n",
    "            success += 1\n",
    "            print(ratios[-1])\n",
    "            '''plt.figure()\n",
    "            plt.plot(Y_lat, Y_long, 'r*')\n",
    "            plt.plot(pred_lat, pred_long, 'b')\n",
    "            plt.legend(['Ground Truth', 'Predicted'])\n",
    "            plt.plot(Y_lat[0],Y_long[0], 'k*', markersize=15)'''\n",
    "        \n",
    "    if k > 10:\n",
    "        break"
   ]
  },
  {
   "cell_type": "code",
   "execution_count": 48,
   "metadata": {},
   "outputs": [
    {
     "data": {
      "text/plain": [
       "(0.24860111910471622, 0.5563549160671463, 0.1950439648281375)"
      ]
     },
     "execution_count": 48,
     "metadata": {},
     "output_type": "execute_result"
    }
   ],
   "source": [
    "n_blowups/processed, success/processed, (processed - success - n_blowups) / processed"
   ]
  },
  {
   "cell_type": "code",
   "execution_count": 41,
   "metadata": {},
   "outputs": [
    {
     "data": {
      "text/plain": [
       "(0.18734335839598998, 0.43295739348370926, 0.37969924812030076)"
      ]
     },
     "execution_count": 41,
     "metadata": {},
     "output_type": "execute_result"
    }
   ],
   "source": [
    "n_blowups/len(test_data), success/len(test_data), (len(test_data) - success - n_blowups) / len(test_data),"
   ]
  },
  {
   "cell_type": "code",
   "execution_count": 36,
   "metadata": {},
   "outputs": [
    {
     "data": {
      "text/plain": [
       "(0.18609022556390978, 0.44047619047619047, 0.37343358395989973)"
      ]
     },
     "execution_count": 36,
     "metadata": {},
     "output_type": "execute_result"
    }
   ],
   "source": [
    "n_blowups/len(test_data), success/len(test_data), (len(test_data) - success - n_blowups) / len(test_data),"
   ]
  },
  {
   "cell_type": "code",
   "execution_count": null,
   "metadata": {},
   "outputs": [],
   "source": [
    "##### min(ratios), max(ratios)"
   ]
  },
  {
   "cell_type": "code",
   "execution_count": 146,
   "metadata": {},
   "outputs": [],
   "source": [
    "def fit_curve(times, feature, degree = 3, delta = 30):\n",
    "    z = np.polyfit(times, feature, degree)\n",
    "    f = np.poly1d(z)\n",
    "    \n",
    "    x_new = np.linspace(times[0], times[-1], int((times[-1] + delta)/delta))\n",
    "    y_new = f(x_new)\n",
    "    \n",
    "    return x_new, y_new"
   ]
  },
  {
   "cell_type": "code",
   "execution_count": 162,
   "metadata": {},
   "outputs": [],
   "source": [
    "realtest_data = load_data('Processed_Data/test_set.pkl')"
   ]
  },
  {
   "cell_type": "code",
   "execution_count": 168,
   "metadata": {},
   "outputs": [
    {
     "name": "stderr",
     "output_type": "stream",
     "text": [
      "/opt/conda/lib/python3.7/site-packages/ipykernel_launcher.py:32: RankWarning: Polyfit may be poorly conditioned\n",
      "/opt/conda/lib/python3.7/site-packages/ipykernel_launcher.py:32: RankWarning: Polyfit may be poorly conditioned\n",
      "/opt/conda/lib/python3.7/site-packages/ipykernel_launcher.py:32: RankWarning: Polyfit may be poorly conditioned\n",
      "/opt/conda/lib/python3.7/site-packages/ipykernel_launcher.py:32: RankWarning: Polyfit may be poorly conditioned\n",
      "/opt/conda/lib/python3.7/site-packages/ipykernel_launcher.py:32: RankWarning: Polyfit may be poorly conditioned\n",
      "/opt/conda/lib/python3.7/site-packages/ipykernel_launcher.py:32: RankWarning: Polyfit may be poorly conditioned\n",
      "/opt/conda/lib/python3.7/site-packages/ipykernel_launcher.py:32: RankWarning: Polyfit may be poorly conditioned\n",
      "/opt/conda/lib/python3.7/site-packages/ipykernel_launcher.py:32: RankWarning: Polyfit may be poorly conditioned\n",
      "/opt/conda/lib/python3.7/site-packages/ipykernel_launcher.py:32: RankWarning: Polyfit may be poorly conditioned\n",
      "/opt/conda/lib/python3.7/site-packages/ipykernel_launcher.py:32: RankWarning: Polyfit may be poorly conditioned\n",
      "/opt/conda/lib/python3.7/site-packages/ipykernel_launcher.py:51: RankWarning: Polyfit may be poorly conditioned\n",
      "/opt/conda/lib/python3.7/site-packages/ipykernel_launcher.py:32: RankWarning: Polyfit may be poorly conditioned\n",
      "/opt/conda/lib/python3.7/site-packages/ipykernel_launcher.py:32: RankWarning: Polyfit may be poorly conditioned\n",
      "/opt/conda/lib/python3.7/site-packages/ipykernel_launcher.py:51: RankWarning: Polyfit may be poorly conditioned\n",
      "/opt/conda/lib/python3.7/site-packages/ipykernel_launcher.py:32: RankWarning: Polyfit may be poorly conditioned\n",
      "/opt/conda/lib/python3.7/site-packages/ipykernel_launcher.py:51: RankWarning: Polyfit may be poorly conditioned\n",
      "/opt/conda/lib/python3.7/site-packages/ipykernel_launcher.py:32: RankWarning: Polyfit may be poorly conditioned\n",
      "/opt/conda/lib/python3.7/site-packages/ipykernel_launcher.py:32: RankWarning: Polyfit may be poorly conditioned\n",
      "/opt/conda/lib/python3.7/site-packages/ipykernel_launcher.py:32: RankWarning: Polyfit may be poorly conditioned\n",
      "/opt/conda/lib/python3.7/site-packages/ipykernel_launcher.py:51: RankWarning: Polyfit may be poorly conditioned\n",
      "/opt/conda/lib/python3.7/site-packages/ipykernel_launcher.py:32: RankWarning: Polyfit may be poorly conditioned\n",
      "/opt/conda/lib/python3.7/site-packages/ipykernel_launcher.py:51: RankWarning: Polyfit may be poorly conditioned\n",
      "/opt/conda/lib/python3.7/site-packages/ipykernel_launcher.py:32: RankWarning: Polyfit may be poorly conditioned\n",
      "/opt/conda/lib/python3.7/site-packages/ipykernel_launcher.py:32: RankWarning: Polyfit may be poorly conditioned\n",
      "/opt/conda/lib/python3.7/site-packages/ipykernel_launcher.py:32: RankWarning: Polyfit may be poorly conditioned\n",
      "/opt/conda/lib/python3.7/site-packages/ipykernel_launcher.py:32: RankWarning: Polyfit may be poorly conditioned\n",
      "/opt/conda/lib/python3.7/site-packages/ipykernel_launcher.py:32: RankWarning: Polyfit may be poorly conditioned\n",
      "/opt/conda/lib/python3.7/site-packages/ipykernel_launcher.py:32: RankWarning: Polyfit may be poorly conditioned\n",
      "/opt/conda/lib/python3.7/site-packages/ipykernel_launcher.py:32: RankWarning: Polyfit may be poorly conditioned\n",
      "/opt/conda/lib/python3.7/site-packages/ipykernel_launcher.py:32: RankWarning: Polyfit may be poorly conditioned\n",
      "/opt/conda/lib/python3.7/site-packages/ipykernel_launcher.py:32: RankWarning: Polyfit may be poorly conditioned\n",
      "/opt/conda/lib/python3.7/site-packages/ipykernel_launcher.py:32: RankWarning: Polyfit may be poorly conditioned\n",
      "/opt/conda/lib/python3.7/site-packages/ipykernel_launcher.py:32: RankWarning: Polyfit may be poorly conditioned\n",
      "/opt/conda/lib/python3.7/site-packages/ipykernel_launcher.py:32: RankWarning: Polyfit may be poorly conditioned\n",
      "/opt/conda/lib/python3.7/site-packages/ipykernel_launcher.py:32: RankWarning: Polyfit may be poorly conditioned\n",
      "/opt/conda/lib/python3.7/site-packages/ipykernel_launcher.py:32: RankWarning: Polyfit may be poorly conditioned\n"
     ]
    },
    {
     "data": {
      "image/png": "[encoded data removed]",
      "text/plain": [
       "<Figure size 432x288 with 1 Axes>"
      ]
     },
     "metadata": {
      "needs_background": "light"
     },
     "output_type": "display_data"
    },
    {
     "data": {
      "image/png": "[encoded data removed]",
      "text/plain": [
       "<Figure size 432x288 with 1 Axes>"
      ]
     },
     "metadata": {
      "needs_background": "light"
     },
     "output_type": "display_data"
    },
    {
     "data": {
      "image/png": "[encoded data removed]",
      "text/plain": [
       "<Figure size 432x288 with 1 Axes>"
      ]
     },
     "metadata": {
      "needs_background": "light"
     },
     "output_type": "display_data"
    },
    {
     "data": {
      "image/png": "[encoded data removed]",
      "text/plain": [
       "<Figure size 432x288 with 1 Axes>"
      ]
     },
     "metadata": {
      "needs_background": "light"
     },
     "output_type": "display_data"
    },
    {
     "data": {
      "image/png": "[encoded data removed]",
      "text/plain": [
       "<Figure size 432x288 with 1 Axes>"
      ]
     },
     "metadata": {
      "needs_background": "light"
     },
     "output_type": "display_data"
    }
   ],
   "source": [
    "ratios = []\n",
    "n_blowups = 0\n",
    "success = 0\n",
    "delta = 30\n",
    "degree = 20\n",
    "for k, _ in enumerate(realtest_data):\n",
    "    #if k%100 == 0:\n",
    "    #    print(k, success, n_blowups)\n",
    "    index = random.randint(0, len(realtest_data) - 1)\n",
    "    #index = k\n",
    "    traj = realtest_data[index]\n",
    "    \n",
    "    lat = traj[0]\n",
    "    long = traj[1]\n",
    "    datetime = traj[2]\n",
    "    time_diff = np.array([0] + [t.seconds for t in np.diff(np.array(datetime))])\n",
    "    times = np.cumsum(time_diff)\n",
    "    for t, time in enumerate(times):\n",
    "        if time > input_dim * delta:\n",
    "            break\n",
    "\n",
    "    query_times = times[:t+1]\n",
    "    n_iterations = int((times[-1] - times[t])/delta)\n",
    "    \n",
    "    pred_lat = []\n",
    "    pred_long = []\n",
    "    blowup = False\n",
    "    \n",
    "    if len(lat) > t+1:\n",
    "        #initializing prediction for lat\n",
    "        real_input = np.array(lat[:t+1])\n",
    "        _, X = fit_curve(query_times, real_input, degree = degree, delta = delta)\n",
    "        X = X[-input_dim:]\n",
    "        X = X.reshape(1,-1)\n",
    "        \n",
    "        for i in range(n_iterations):\n",
    "            pred_lat.append(reg_lat.predict(X)[0])\n",
    "            X = list(np.squeeze(X, axis = 0))[1:] + [pred_lat[-1]]\n",
    "            X = np.array(X).reshape(1,-1)\n",
    "            \n",
    "            if abs(pred_lat[-1]) > 360:\n",
    "                blowup = True\n",
    "                break\n",
    "            \n",
    "        if blowup == True:\n",
    "            n_blowups += 1\n",
    "            continue\n",
    "            \n",
    "        #initializing prediction for long\n",
    "        real_input = np.array(long[:t+1])\n",
    "        _, X = fit_curve(query_times, real_input, degree = degree, delta = delta)\n",
    "        X = X[-input_dim:]\n",
    "        X = X.reshape(1,-1)\n",
    "        \n",
    "        for i in range(n_iterations):\n",
    "            pred_long.append(reg_long.predict(X)[0])\n",
    "            X = list(np.squeeze(X, axis = 0))[1:] + [pred_long[-1]]\n",
    "            X = np.array(X).reshape(1,-1)\n",
    "            \n",
    "            if abs(pred_long[-1]) > 360:\n",
    "                blowup = True\n",
    "                break\n",
    "                \n",
    "        if blowup == True:\n",
    "            n_blowups += 1\n",
    "            continue\n",
    "            \n",
    "            \n",
    "        #Grouping results, can't calculate error. See non-blown up results through visualization    \n",
    "        Y_lat = np.array(lat[t+1:])\n",
    "        Y_long = np.array(long[t+1:])\n",
    "        pred_lat = np.array(pred_lat)\n",
    "        pred_long = np.array(pred_long)\n",
    "        \n",
    "        plt.figure()\n",
    "        plt.plot(Y_lat, Y_long, 'r*')\n",
    "        plt.plot(Y_lat[0],Y_long[0], 'k*', markersize=15)\n",
    "        plt.plot(pred_lat, pred_long, 'b')\n",
    "        plt.title(str(len(lat)) + '_' + str(n_iterations))\n",
    "        \n",
    "    if k > 30:\n",
    "        break"
   ]
  },
  {
   "cell_type": "code",
   "execution_count": null,
   "metadata": {},
   "outputs": [],
   "source": []
  },
  {
   "cell_type": "code",
   "execution_count": null,
   "metadata": {},
   "outputs": [],
   "source": []
  }
 ],
 "metadata": {
  "kernelspec": {
   "display_name": "Python 3",
   "language": "python",
   "name": "python3"
  },
  "language_info": {
   "codemirror_mode": {
    "name": "ipython",
    "version": 3
   },
   "file_extension": ".py",
   "mimetype": "text/x-python",
   "name": "python",
   "nbconvert_exporter": "python",
   "pygments_lexer": "ipython3",
   "version": "3.7.7"
  },
  "toc": {
   "base_numbering": 1,
   "nav_menu": {},
   "number_sections": false,
   "sideBar": false,
   "skip_h1_title": false,
   "title_cell": "Table of Contents",
   "title_sidebar": "Contents",
   "toc_cell": false,
   "toc_position": {},
   "toc_section_display": false,
   "toc_window_display": false
  }
 },
 "nbformat": 4,
 "nbformat_minor": 4
}
