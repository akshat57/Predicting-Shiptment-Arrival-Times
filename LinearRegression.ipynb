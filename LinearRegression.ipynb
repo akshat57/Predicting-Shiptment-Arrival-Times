{
 "cells": [
  {
   "cell_type": "code",
   "execution_count": 1,
   "metadata": {},
   "outputs": [
    {
     "name": "stderr",
     "output_type": "stream",
     "text": [
      "/opt/conda/lib/python3.7/site-packages/statsmodels/tools/_testing.py:19: FutureWarning: pandas.util.testing is deprecated. Use the functions in the public API at pandas.testing instead.\n",
      "  import pandas.util.testing as tm\n"
     ]
    }
   ],
   "source": [
    "import os\n",
    "import pandas as pd\n",
    "import matplotlib.pyplot as plt\n",
    "import numpy as np\n",
    "from datetime import datetime\n",
    "import seaborn as sns\n",
    "from sklearn.cluster import DBSCAN\n",
    "import pickle\n",
    "import time\n",
    "from sklearn.linear_model import LinearRegression"
   ]
  },
  {
   "cell_type": "code",
   "execution_count": 2,
   "metadata": {},
   "outputs": [],
   "source": [
    "def load_data(filename):\n",
    "    a_file = open(filename, \"rb\")\n",
    "    output = pickle.load(a_file)\n",
    "    a_file.close()\n",
    "    \n",
    "    return output\n",
    "\n",
    "def save_data(filename, data):\n",
    "    a_file = open(filename, \"wb\")\n",
    "    pickle.dump(data, a_file)\n",
    "    a_file.close()"
   ]
  },
  {
   "cell_type": "code",
   "execution_count": 3,
   "metadata": {},
   "outputs": [],
   "source": [
    "train_data = load_data('Processed_Data/train_set.pkl')\n",
    "test_data = load_data('Processed_Data/test_set.pkl')"
   ]
  },
  {
   "cell_type": "code",
   "execution_count": 4,
   "metadata": {},
   "outputs": [],
   "source": [
    "input_dim = 30\n",
    "X_lat = []\n",
    "Y_lat = []\n",
    "X_long = []\n",
    "Y_long = []\n",
    "for i, traj in enumerate(train_data):\n",
    "    lat = traj[0]\n",
    "    long = traj[1]\n",
    "    \n",
    "    if len(lat) > 2 * input_dim:\n",
    "        for i in range(len(lat) - input_dim):\n",
    "            X_lat.append(lat[i:i+input_dim])\n",
    "            Y_lat.append(lat[i+input_dim])\n",
    "            \n",
    "            X_long.append(long[i:i+input_dim])\n",
    "            Y_long.append(long[i+input_dim])"
   ]
  },
  {
   "cell_type": "code",
   "execution_count": 5,
   "metadata": {},
   "outputs": [
    {
     "name": "stdout",
     "output_type": "stream",
     "text": [
      "(2898332, 30) (2898332,)\n"
     ]
    }
   ],
   "source": [
    "X_lat = np.array(X_lat)\n",
    "Y_lat = np.array(Y_lat)\n",
    "X_long = np.array(X_long)\n",
    "Y_long = np.array(Y_long)\n",
    "print(X_lat.shape, Y_lat.shape)"
   ]
  },
  {
   "cell_type": "code",
   "execution_count": 70,
   "metadata": {},
   "outputs": [],
   "source": [
    "reg_lat = LinearRegression().fit(X_lat, Y_lat )\n",
    "reg_long = LinearRegression().fit(X_long, Y_long )"
   ]
  },
  {
   "cell_type": "code",
   "execution_count": 71,
   "metadata": {},
   "outputs": [
    {
     "name": "stdout",
     "output_type": "stream",
     "text": [
      "0\n",
      "100\n",
      "200\n",
      "300\n",
      "400\n",
      "500\n",
      "600\n",
      "700\n",
      "800\n",
      "900\n",
      "1000\n",
      "1100\n",
      "1200\n",
      "1300\n",
      "1400\n",
      "1500\n"
     ]
    }
   ],
   "source": [
    "ratios = []\n",
    "for k, traj in enumerate(test_data):\n",
    "    if k % 100 == 0:\n",
    "        print(k)\n",
    "    lat = traj[0]\n",
    "    long = traj[1]\n",
    "    pred_lat = []\n",
    "    pred_long = []\n",
    "    \n",
    "    if len(lat) > input_dim + 2:\n",
    "        \n",
    "        #predicting latitude\n",
    "        X = np.array(lat[:input_dim]).reshape(1,-1)\n",
    "        for i in range(len(lat) - input_dim):\n",
    "            pred_lat.append(reg_lat.predict(X)[0])\n",
    "            X = list(np.squeeze(X, axis = 0))[1:] + [pred_lat[-1]]\n",
    "            X = np.array(X).reshape(1,-1)\n",
    "            \n",
    "        #predicting latitude\n",
    "        X = np.array(long[:input_dim]).reshape(1,-1)\n",
    "        for i in range(len(long) - input_dim):\n",
    "            pred_long.append(reg_long.predict(X)[0])\n",
    "            X = list(np.squeeze(X, axis = 0))[1:] + [pred_long[-1]]\n",
    "            X = np.array(X).reshape(1,-1)\n",
    "            \n",
    "            \n",
    "        Y_lat = np.array(lat[input_dim:])\n",
    "        Y_long = np.array(long[input_dim:])\n",
    "        pred_lat = np.array(pred_lat)\n",
    "        pred_long = np.array(pred_long)\n",
    "        \n",
    "        lat_diff = np.sum(np.abs(np.diff(Y_lat)))\n",
    "        long_diff = np.sum(np.abs(np.diff(Y_long)))\n",
    "        path_len = lat_diff + long_diff\n",
    "        \n",
    "        error = (np.sum(np.abs(Y_lat - pred_lat)) + np.sum(np.abs(Y_long - pred_long)))**0.5\n",
    "        \n",
    "        ratios.append(error/path_len)\n",
    "        if error < path_len:\n",
    "            print('Error:', error, 'Path Len:', path_len)\n",
    "            plt.figure()\n",
    "            plt.plot(Y_lat, Y_long, 'r')\n",
    "            plt.plot(pred_lat, pred_long, 'k')"
   ]
  },
  {
   "cell_type": "code",
   "execution_count": 72,
   "metadata": {},
   "outputs": [
    {
     "data": {
      "text/plain": [
       "Text(0.5, 1.0, 'Context = 20')"
      ]
     },
     "execution_count": 72,
     "metadata": {},
     "output_type": "execute_result"
    },
    {
     "data": {
      "image/png": "[encoded data removed]",
      "text/plain": [
       "<Figure size 432x288 with 1 Axes>"
      ]
     },
     "metadata": {
      "needs_background": "light"
     },
     "output_type": "display_data"
    }
   ],
   "source": [
    "sns.distplot(ratios)"
   ]
  },
  {
   "cell_type": "code",
   "execution_count": 73,
   "metadata": {},
   "outputs": [
    {
     "name": "stdout",
     "output_type": "stream",
     "text": [
      "12.704253238197378 10.600712892078784\n"
     ]
    }
   ],
   "source": [
    "print(np.mean(np.array(ratios)), np.std(np.array(ratios)))"
   ]
  },
  {
   "cell_type": "code",
   "execution_count": 59,
   "metadata": {},
   "outputs": [
    {
     "data": {
      "text/plain": [
       "<matplotlib.axes._subplots.AxesSubplot at 0x7fdd44dfea10>"
      ]
     },
     "execution_count": 59,
     "metadata": {},
     "output_type": "execute_result"
    },
    {
     "data": {
      "image/png": "[encoded data removed]",
      "text/plain": [
       "<Figure size 432x288 with 1 Axes>"
      ]
     },
     "metadata": {
      "needs_background": "light"
     },
     "output_type": "display_data"
    }
   ],
   "source": [
    "sns.distplot(ratios)"
   ]
  },
  {
   "cell_type": "code",
   "execution_count": 60,
   "metadata": {},
   "outputs": [
    {
     "name": "stdout",
     "output_type": "stream",
     "text": [
      "10.581852924522103 3.545724557784073\n"
     ]
    }
   ],
   "source": [
    "print(np.mean(np.array(ratios)), np.std(np.array(ratios)))"
   ]
  },
  {
   "cell_type": "code",
   "execution_count": 10,
   "metadata": {},
   "outputs": [],
   "source": [
    "def handle_timeInput_data(X, Y, lat, long, time, N):\n",
    "    \n",
    "    for i in range(len(lat)-N):\n",
    "        X.append(time[i:i+N] + [1])\n",
    "        Y.append([lat[i+N], long[i+N]])\n",
    "        \n",
    "    return X, Y   \n",
    "\n",
    "def create_model(X, Y):\n",
    "    X = np.array(X)\n",
    "    X = X.T\n",
    "    Y = np.array(Y)\n",
    "    Y = Y.T\n",
    "\n",
    "    A = Y @ (np.linalg.pinv(X))    \n",
    "    \n",
    "    return A"
   ]
  },
  {
   "cell_type": "code",
   "execution_count": 11,
   "metadata": {},
   "outputs": [],
   "source": [
    "N = 20 # dimension of the ML model\n",
    "\n",
    "X = []\n",
    "Y = []\n",
    "\n",
    "for traj in train_set:\n",
    "    if len(traj[0]) > N:\n",
    "        lat = traj[0]\n",
    "        long = traj[1]\n",
    "        datetime = traj[2]\n",
    "        time = [(t-datetime[0]).seconds for t in datetime]\n",
    "        \n",
    "        X, Y = handle_data(X, Y, lat, long, time, N)\n",
    "        \n",
    "A = create_model(X, Y)"
   ]
  },
  {
   "cell_type": "code",
   "execution_count": 14,
   "metadata": {
    "scrolled": true
   },
   "outputs": [
    {
     "data": {
      "image/png": "[encoded data removed]",
      "text/plain": [
       "<Figure size 432x288 with 1 Axes>"
      ]
     },
     "metadata": {
      "needs_background": "light"
     },
     "output_type": "display_data"
    },
    {
     "data": {
      "image/png": "[encoded data removed]",
      "text/plain": [
       "<Figure size 432x288 with 1 Axes>"
      ]
     },
     "metadata": {
      "needs_background": "light"
     },
     "output_type": "display_data"
    }
   ],
   "source": [
    "for traj in test_set:\n",
    "    if len(traj[0]) > N:\n",
    "        lat = traj[0]\n",
    "        long = traj[1]\n",
    "        datetime = traj[2]\n",
    "        time = [(t-datetime[0]).seconds for t in datetime]\n",
    "        \n",
    "        test_data(A, lat, long, time)\n",
    "        \n",
    "    break"
   ]
  },
  {
   "cell_type": "code",
   "execution_count": 12,
   "metadata": {},
   "outputs": [],
   "source": [
    "def test_data(A, lat, long, time):\n",
    "    \n",
    "    inputs = []\n",
    "    labels = []\n",
    "    for i in range(len(lat)-N):\n",
    "        inputs.append(time[i:i+N] + [1])\n",
    "        labels.append([lat[i+N], long[i+N]])\n",
    "                      \n",
    "    inputs = np.array(inputs).T\n",
    "    labels = np.array(labels).T\n",
    "                      \n",
    "    outputs = A@inputs\n",
    "    \n",
    "    plt.figure()\n",
    "    plt.plot(outputs[0,:], outputs[1,:])\n",
    "    plt.figure()\n",
    "    plt.plot(labels[0,:], labels[1,:])\n",
    "    #error = np.sum(np.square(outputs-labels), axis = 0)\n",
    "    #print(error.shape)\n",
    "    "
   ]
  },
  {
   "cell_type": "code",
   "execution_count": null,
   "metadata": {},
   "outputs": [],
   "source": []
  },
  {
   "cell_type": "code",
   "execution_count": 15,
   "metadata": {},
   "outputs": [],
   "source": [
    "###POSITION BASED MODEL"
   ]
  },
  {
   "cell_type": "code",
   "execution_count": null,
   "metadata": {},
   "outputs": [],
   "source": [
    "def handle_positionInput_data(X, Y, lat, long, N):\n",
    "    \n",
    "    for i in range(len(lat)-N):\n",
    "        X.append(time[i:i+N] + [1])\n",
    "        Y.append([lat[i+N], long[i+N]])\n",
    "        \n",
    "    return X, Y   \n",
    "\n",
    "def create_model(X, Y):\n",
    "    X = np.array(X)\n",
    "    X = X.T\n",
    "    Y = np.array(Y)\n",
    "    Y = Y.T\n",
    "\n",
    "    A = Y @ (np.linalg.pinv(X))    \n",
    "    \n",
    "    return A"
   ]
  },
  {
   "cell_type": "code",
   "execution_count": null,
   "metadata": {},
   "outputs": [],
   "source": [
    "N = 20 # dimension of the ML model\n",
    "\n",
    "X = []\n",
    "Y = []\n",
    "\n",
    "for traj in train_set:\n",
    "    if len(traj[0]) > N:\n",
    "        lat = traj[0]\n",
    "        long = traj[1]\n",
    "        datetime = traj[2]\n",
    "        time = [(t-datetime[0]).seconds for t in datetime]\n",
    "        \n",
    "        X, Y = handle_data(X, Y, lat, long, time, N)\n",
    "        \n",
    "A = create_model(X, Y)"
   ]
  }
 ],
 "metadata": {
  "kernelspec": {
   "display_name": "Python 3",
   "language": "python",
   "name": "python3"
  },
  "language_info": {
   "codemirror_mode": {
    "name": "ipython",
    "version": 3
   },
   "file_extension": ".py",
   "mimetype": "text/x-python",
   "name": "python",
   "nbconvert_exporter": "python",
   "pygments_lexer": "ipython3",
   "version": "3.7.7"
  },
  "toc": {
   "base_numbering": 1,
   "nav_menu": {},
   "number_sections": false,
   "sideBar": false,
   "skip_h1_title": false,
   "title_cell": "Table of Contents",
   "title_sidebar": "Contents",
   "toc_cell": false,
   "toc_position": {},
   "toc_section_display": false,
   "toc_window_display": false
  }
 },
 "nbformat": 4,
 "nbformat_minor": 4
}
