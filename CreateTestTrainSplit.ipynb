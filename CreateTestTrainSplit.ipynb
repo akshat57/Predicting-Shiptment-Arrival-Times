{
 "cells": [
  {
   "cell_type": "code",
   "execution_count": 8,
   "metadata": {},
   "outputs": [],
   "source": [
    "import os\n",
    "import pandas as pd\n",
    "import matplotlib.pyplot as plt\n",
    "import numpy as np\n",
    "from datetime import datetime\n",
    "import seaborn as sns\n",
    "from sklearn.cluster import DBSCAN\n",
    "import pickle\n",
    "import time\n",
    "import random"
   ]
  },
  {
   "cell_type": "code",
   "execution_count": 2,
   "metadata": {},
   "outputs": [],
   "source": [
    "def load_data(filename):\n",
    "    a_file = open(filename, \"rb\")\n",
    "    output = pickle.load(a_file)\n",
    "    a_file.close()\n",
    "    \n",
    "    return output\n",
    "\n",
    "def save_data(filename, data):\n",
    "    a_file = open(filename, \"wb\")\n",
    "    pickle.dump(data, a_file)\n",
    "    a_file.close()"
   ]
  },
  {
   "cell_type": "code",
   "execution_count": 14,
   "metadata": {},
   "outputs": [],
   "source": [
    "data_loc = 'Processed_Data/NewDump/'\n",
    "files = os.listdir(data_loc)\n",
    "path_lens = []\n",
    "all_trajectories = []\n",
    "counter = 0\n",
    "for i, file in enumerate(files):\n",
    "    if not file.startswith('.'):\n",
    "        data = load_data(data_loc + file)\n",
    "        mmsi = data[0]\n",
    "        trajectories = data[1]\n",
    "\n",
    "        if len(trajectories) > 0:\n",
    "            #all_trajectories += trajectories\n",
    "            for traj in trajectories:\n",
    "                lat = traj[0]\n",
    "                long = traj[1]\n",
    "                datetime = traj[2]\n",
    "                journey_time = (datetime[-1] - datetime[0]).seconds/3600\n",
    "                \n",
    "                lat_diff = np.sum(np.abs(np.diff(lat)))\n",
    "                long_diff = np.sum(np.abs(np.diff(long)))\n",
    "                path_len_distance = lat_diff + long_diff\n",
    "                \n",
    "                path_lens.append(path_len_distance)\n",
    "                all_trajectories.append([lat, long, datetime])\n",
    "                "
   ]
  },
  {
   "cell_type": "code",
   "execution_count": 15,
   "metadata": {},
   "outputs": [
    {
     "name": "stdout",
     "output_type": "stream",
     "text": [
      "21596\n"
     ]
    }
   ],
   "source": [
    "print(len(all_trajectories))\n",
    "random.shuffle(all_trajectories)"
   ]
  },
  {
   "cell_type": "code",
   "execution_count": 16,
   "metadata": {},
   "outputs": [],
   "source": [
    "train_set = all_trajectories[:20000]\n",
    "test_set = all_trajectories[20000:]\n",
    "save_data('Processed_Data/train_set.pkl', train_set)\n",
    "save_data('Processed_Data/test_set.pkl', test_set)"
   ]
  },
  {
   "cell_type": "code",
   "execution_count": null,
   "metadata": {},
   "outputs": [],
   "source": []
  }
 ],
 "metadata": {
  "kernelspec": {
   "display_name": "Python 3",
   "language": "python",
   "name": "python3"
  },
  "language_info": {
   "codemirror_mode": {
    "name": "ipython",
    "version": 3
   },
   "file_extension": ".py",
   "mimetype": "text/x-python",
   "name": "python",
   "nbconvert_exporter": "python",
   "pygments_lexer": "ipython3",
   "version": "3.7.7"
  },
  "toc": {
   "base_numbering": 1,
   "nav_menu": {},
   "number_sections": false,
   "sideBar": false,
   "skip_h1_title": false,
   "title_cell": "Table of Contents",
   "title_sidebar": "Contents",
   "toc_cell": false,
   "toc_position": {},
   "toc_section_display": false,
   "toc_window_display": false
  }
 },
 "nbformat": 4,
 "nbformat_minor": 4
}
