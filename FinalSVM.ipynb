{
 "cells": [
  {
   "cell_type": "code",
   "execution_count": 1,
   "metadata": {},
   "outputs": [],
   "source": [
    "import os\n",
    "import pandas as pd\n",
    "import matplotlib.pyplot as plt\n",
    "import numpy as np\n",
    "from datetime import datetime\n",
    "import sklearn.svm as svm\n",
    "from sklearn.svm import libsvm "
   ]
  },
  {
   "cell_type": "code",
   "execution_count": 2,
   "metadata": {},
   "outputs": [],
   "source": [
    "# train_data = pd.read_pickle('../Processed_Data/train_set.pkl')\n",
    "# test_data = pd.read_pickle('../Processed_Data/test_set.pkl')"
   ]
  },
  {
   "cell_type": "code",
   "execution_count": 3,
   "metadata": {},
   "outputs": [],
   "source": [
    "all_train_data = pd.read_csv('alltrain.csv',)\n",
    "all_test_data = pd.read_csv('alltest.csv')\n",
    "#Preprocessed in XGBoost.ipynb"
   ]
  },
  {
   "cell_type": "code",
   "execution_count": 4,
   "metadata": {},
   "outputs": [
    {
     "data": {
      "text/html": [
       "<div>\n",
       "<style scoped>\n",
       "    .dataframe tbody tr th:only-of-type {\n",
       "        vertical-align: middle;\n",
       "    }\n",
       "\n",
       "    .dataframe tbody tr th {\n",
       "        vertical-align: top;\n",
       "    }\n",
       "\n",
       "    .dataframe thead th {\n",
       "        text-align: right;\n",
       "    }\n",
       "</style>\n",
       "<table border=\"1\" class=\"dataframe\">\n",
       "  <thead>\n",
       "    <tr style=\"text-align: right;\">\n",
       "      <th></th>\n",
       "      <th>Lat</th>\n",
       "      <th>Long</th>\n",
       "      <th>Time</th>\n",
       "      <th>Length</th>\n",
       "      <th>Start</th>\n",
       "      <th>End</th>\n",
       "      <th>Start_Hour</th>\n",
       "      <th>Start_Day</th>\n",
       "      <th>End_Hour</th>\n",
       "      <th>End_Day</th>\n",
       "      <th>Start_Min</th>\n",
       "      <th>Current_Hour</th>\n",
       "      <th>Current_Min</th>\n",
       "      <th>Current_Day</th>\n",
       "      <th>End_Min</th>\n",
       "      <th>Start_Sec</th>\n",
       "      <th>Current_Sec</th>\n",
       "      <th>End_Sec</th>\n",
       "    </tr>\n",
       "  </thead>\n",
       "  <tbody>\n",
       "    <tr>\n",
       "      <th>0</th>\n",
       "      <td>40.58338</td>\n",
       "      <td>-73.85482</td>\n",
       "      <td>2019-01-17 13:20:02</td>\n",
       "      <td>19</td>\n",
       "      <td>2019-01-17 13:20:02</td>\n",
       "      <td>2019-01-17 13:50:13</td>\n",
       "      <td>13</td>\n",
       "      <td>17</td>\n",
       "      <td>13</td>\n",
       "      <td>17</td>\n",
       "      <td>20</td>\n",
       "      <td>13</td>\n",
       "      <td>20</td>\n",
       "      <td>17</td>\n",
       "      <td>50</td>\n",
       "      <td>2</td>\n",
       "      <td>2</td>\n",
       "      <td>13</td>\n",
       "    </tr>\n",
       "    <tr>\n",
       "      <th>1</th>\n",
       "      <td>40.57990</td>\n",
       "      <td>-73.86292</td>\n",
       "      <td>2019-01-17 13:21:04</td>\n",
       "      <td>19</td>\n",
       "      <td>2019-01-17 13:20:02</td>\n",
       "      <td>2019-01-17 13:50:13</td>\n",
       "      <td>13</td>\n",
       "      <td>17</td>\n",
       "      <td>13</td>\n",
       "      <td>17</td>\n",
       "      <td>20</td>\n",
       "      <td>13</td>\n",
       "      <td>21</td>\n",
       "      <td>17</td>\n",
       "      <td>50</td>\n",
       "      <td>2</td>\n",
       "      <td>4</td>\n",
       "      <td>13</td>\n",
       "    </tr>\n",
       "    <tr>\n",
       "      <th>2</th>\n",
       "      <td>40.57637</td>\n",
       "      <td>-73.87132</td>\n",
       "      <td>2019-01-17 13:22:07</td>\n",
       "      <td>19</td>\n",
       "      <td>2019-01-17 13:20:02</td>\n",
       "      <td>2019-01-17 13:50:13</td>\n",
       "      <td>13</td>\n",
       "      <td>17</td>\n",
       "      <td>13</td>\n",
       "      <td>17</td>\n",
       "      <td>20</td>\n",
       "      <td>13</td>\n",
       "      <td>22</td>\n",
       "      <td>17</td>\n",
       "      <td>50</td>\n",
       "      <td>2</td>\n",
       "      <td>7</td>\n",
       "      <td>13</td>\n",
       "    </tr>\n",
       "    <tr>\n",
       "      <th>3</th>\n",
       "      <td>40.57447</td>\n",
       "      <td>-73.88029</td>\n",
       "      <td>2019-01-17 13:23:09</td>\n",
       "      <td>19</td>\n",
       "      <td>2019-01-17 13:20:02</td>\n",
       "      <td>2019-01-17 13:50:13</td>\n",
       "      <td>13</td>\n",
       "      <td>17</td>\n",
       "      <td>13</td>\n",
       "      <td>17</td>\n",
       "      <td>20</td>\n",
       "      <td>13</td>\n",
       "      <td>23</td>\n",
       "      <td>17</td>\n",
       "      <td>50</td>\n",
       "      <td>2</td>\n",
       "      <td>9</td>\n",
       "      <td>13</td>\n",
       "    </tr>\n",
       "    <tr>\n",
       "      <th>4</th>\n",
       "      <td>40.57262</td>\n",
       "      <td>-73.88921</td>\n",
       "      <td>2019-01-17 13:24:11</td>\n",
       "      <td>19</td>\n",
       "      <td>2019-01-17 13:20:02</td>\n",
       "      <td>2019-01-17 13:50:13</td>\n",
       "      <td>13</td>\n",
       "      <td>17</td>\n",
       "      <td>13</td>\n",
       "      <td>17</td>\n",
       "      <td>20</td>\n",
       "      <td>13</td>\n",
       "      <td>24</td>\n",
       "      <td>17</td>\n",
       "      <td>50</td>\n",
       "      <td>2</td>\n",
       "      <td>11</td>\n",
       "      <td>13</td>\n",
       "    </tr>\n",
       "    <tr>\n",
       "      <th>...</th>\n",
       "      <td>...</td>\n",
       "      <td>...</td>\n",
       "      <td>...</td>\n",
       "      <td>...</td>\n",
       "      <td>...</td>\n",
       "      <td>...</td>\n",
       "      <td>...</td>\n",
       "      <td>...</td>\n",
       "      <td>...</td>\n",
       "      <td>...</td>\n",
       "      <td>...</td>\n",
       "      <td>...</td>\n",
       "      <td>...</td>\n",
       "      <td>...</td>\n",
       "      <td>...</td>\n",
       "      <td>...</td>\n",
       "      <td>...</td>\n",
       "      <td>...</td>\n",
       "    </tr>\n",
       "    <tr>\n",
       "      <th>3540039</th>\n",
       "      <td>48.80372</td>\n",
       "      <td>-122.72340</td>\n",
       "      <td>2019-01-03 15:28:30</td>\n",
       "      <td>54</td>\n",
       "      <td>2019-01-03 14:31:17</td>\n",
       "      <td>2019-01-03 15:32:37</td>\n",
       "      <td>14</td>\n",
       "      <td>3</td>\n",
       "      <td>15</td>\n",
       "      <td>3</td>\n",
       "      <td>31</td>\n",
       "      <td>15</td>\n",
       "      <td>28</td>\n",
       "      <td>3</td>\n",
       "      <td>32</td>\n",
       "      <td>17</td>\n",
       "      <td>30</td>\n",
       "      <td>37</td>\n",
       "    </tr>\n",
       "    <tr>\n",
       "      <th>3540040</th>\n",
       "      <td>48.80394</td>\n",
       "      <td>-122.72357</td>\n",
       "      <td>2019-01-03 15:29:31</td>\n",
       "      <td>54</td>\n",
       "      <td>2019-01-03 14:31:17</td>\n",
       "      <td>2019-01-03 15:32:37</td>\n",
       "      <td>14</td>\n",
       "      <td>3</td>\n",
       "      <td>15</td>\n",
       "      <td>3</td>\n",
       "      <td>31</td>\n",
       "      <td>15</td>\n",
       "      <td>29</td>\n",
       "      <td>3</td>\n",
       "      <td>32</td>\n",
       "      <td>17</td>\n",
       "      <td>31</td>\n",
       "      <td>37</td>\n",
       "    </tr>\n",
       "    <tr>\n",
       "      <th>3540041</th>\n",
       "      <td>48.80405</td>\n",
       "      <td>-122.72376</td>\n",
       "      <td>2019-01-03 15:30:34</td>\n",
       "      <td>54</td>\n",
       "      <td>2019-01-03 14:31:17</td>\n",
       "      <td>2019-01-03 15:32:37</td>\n",
       "      <td>14</td>\n",
       "      <td>3</td>\n",
       "      <td>15</td>\n",
       "      <td>3</td>\n",
       "      <td>31</td>\n",
       "      <td>15</td>\n",
       "      <td>30</td>\n",
       "      <td>3</td>\n",
       "      <td>32</td>\n",
       "      <td>17</td>\n",
       "      <td>34</td>\n",
       "      <td>37</td>\n",
       "    </tr>\n",
       "    <tr>\n",
       "      <th>3540042</th>\n",
       "      <td>48.80405</td>\n",
       "      <td>-122.72395</td>\n",
       "      <td>2019-01-03 15:31:36</td>\n",
       "      <td>54</td>\n",
       "      <td>2019-01-03 14:31:17</td>\n",
       "      <td>2019-01-03 15:32:37</td>\n",
       "      <td>14</td>\n",
       "      <td>3</td>\n",
       "      <td>15</td>\n",
       "      <td>3</td>\n",
       "      <td>31</td>\n",
       "      <td>15</td>\n",
       "      <td>31</td>\n",
       "      <td>3</td>\n",
       "      <td>32</td>\n",
       "      <td>17</td>\n",
       "      <td>36</td>\n",
       "      <td>37</td>\n",
       "    </tr>\n",
       "    <tr>\n",
       "      <th>3540043</th>\n",
       "      <td>48.80402</td>\n",
       "      <td>-122.72414</td>\n",
       "      <td>2019-01-03 15:32:37</td>\n",
       "      <td>54</td>\n",
       "      <td>2019-01-03 14:31:17</td>\n",
       "      <td>2019-01-03 15:32:37</td>\n",
       "      <td>14</td>\n",
       "      <td>3</td>\n",
       "      <td>15</td>\n",
       "      <td>3</td>\n",
       "      <td>31</td>\n",
       "      <td>15</td>\n",
       "      <td>32</td>\n",
       "      <td>3</td>\n",
       "      <td>32</td>\n",
       "      <td>17</td>\n",
       "      <td>37</td>\n",
       "      <td>37</td>\n",
       "    </tr>\n",
       "  </tbody>\n",
       "</table>\n",
       "<p>3540044 rows × 18 columns</p>\n",
       "</div>"
      ],
      "text/plain": [
       "              Lat       Long                 Time  Length  \\\n",
       "0        40.58338  -73.85482  2019-01-17 13:20:02      19   \n",
       "1        40.57990  -73.86292  2019-01-17 13:21:04      19   \n",
       "2        40.57637  -73.87132  2019-01-17 13:22:07      19   \n",
       "3        40.57447  -73.88029  2019-01-17 13:23:09      19   \n",
       "4        40.57262  -73.88921  2019-01-17 13:24:11      19   \n",
       "...           ...        ...                  ...     ...   \n",
       "3540039  48.80372 -122.72340  2019-01-03 15:28:30      54   \n",
       "3540040  48.80394 -122.72357  2019-01-03 15:29:31      54   \n",
       "3540041  48.80405 -122.72376  2019-01-03 15:30:34      54   \n",
       "3540042  48.80405 -122.72395  2019-01-03 15:31:36      54   \n",
       "3540043  48.80402 -122.72414  2019-01-03 15:32:37      54   \n",
       "\n",
       "                       Start                  End  Start_Hour  Start_Day  \\\n",
       "0        2019-01-17 13:20:02  2019-01-17 13:50:13          13         17   \n",
       "1        2019-01-17 13:20:02  2019-01-17 13:50:13          13         17   \n",
       "2        2019-01-17 13:20:02  2019-01-17 13:50:13          13         17   \n",
       "3        2019-01-17 13:20:02  2019-01-17 13:50:13          13         17   \n",
       "4        2019-01-17 13:20:02  2019-01-17 13:50:13          13         17   \n",
       "...                      ...                  ...         ...        ...   \n",
       "3540039  2019-01-03 14:31:17  2019-01-03 15:32:37          14          3   \n",
       "3540040  2019-01-03 14:31:17  2019-01-03 15:32:37          14          3   \n",
       "3540041  2019-01-03 14:31:17  2019-01-03 15:32:37          14          3   \n",
       "3540042  2019-01-03 14:31:17  2019-01-03 15:32:37          14          3   \n",
       "3540043  2019-01-03 14:31:17  2019-01-03 15:32:37          14          3   \n",
       "\n",
       "         End_Hour  End_Day  Start_Min  Current_Hour  Current_Min  Current_Day  \\\n",
       "0              13       17         20            13           20           17   \n",
       "1              13       17         20            13           21           17   \n",
       "2              13       17         20            13           22           17   \n",
       "3              13       17         20            13           23           17   \n",
       "4              13       17         20            13           24           17   \n",
       "...           ...      ...        ...           ...          ...          ...   \n",
       "3540039        15        3         31            15           28            3   \n",
       "3540040        15        3         31            15           29            3   \n",
       "3540041        15        3         31            15           30            3   \n",
       "3540042        15        3         31            15           31            3   \n",
       "3540043        15        3         31            15           32            3   \n",
       "\n",
       "         End_Min  Start_Sec  Current_Sec  End_Sec  \n",
       "0             50          2            2       13  \n",
       "1             50          2            4       13  \n",
       "2             50          2            7       13  \n",
       "3             50          2            9       13  \n",
       "4             50          2           11       13  \n",
       "...          ...        ...          ...      ...  \n",
       "3540039       32         17           30       37  \n",
       "3540040       32         17           31       37  \n",
       "3540041       32         17           34       37  \n",
       "3540042       32         17           36       37  \n",
       "3540043       32         17           37       37  \n",
       "\n",
       "[3540044 rows x 18 columns]"
      ]
     },
     "execution_count": 4,
     "metadata": {},
     "output_type": "execute_result"
    }
   ],
   "source": [
    "all_train_data"
   ]
  },
  {
   "cell_type": "code",
   "execution_count": 3,
   "metadata": {},
   "outputs": [],
   "source": [
    "# all_test_data = pd.concat([pd.DataFrame(np.array(test_data[i]).T, columns=['Lat','Long','Time']) for i in range(len(test_data))],ignore_index=True)    \n",
    "# all_train_data = pd.concat([pd.DataFrame(np.array(train_data[i]).T, columns=['Lat','Long','Time']) for i in range(len(train_data))],ignore_index=True)    "
   ]
  },
  {
   "cell_type": "code",
   "execution_count": 14,
   "metadata": {},
   "outputs": [],
   "source": [
    "# all_test_data['Timestamp'] = all_test_data['Time'].astype(int)/1e9\n",
    "# all_train_data['Timestamp'] = all_train_data['Time'].astype(int)/1e9"
   ]
  },
  {
   "cell_type": "code",
   "execution_count": 5,
   "metadata": {},
   "outputs": [
    {
     "data": {
      "text/html": [
       "<div>\n",
       "<style scoped>\n",
       "    .dataframe tbody tr th:only-of-type {\n",
       "        vertical-align: middle;\n",
       "    }\n",
       "\n",
       "    .dataframe tbody tr th {\n",
       "        vertical-align: top;\n",
       "    }\n",
       "\n",
       "    .dataframe thead th {\n",
       "        text-align: right;\n",
       "    }\n",
       "</style>\n",
       "<table border=\"1\" class=\"dataframe\">\n",
       "  <thead>\n",
       "    <tr style=\"text-align: right;\">\n",
       "      <th></th>\n",
       "      <th>Lat</th>\n",
       "      <th>Long</th>\n",
       "      <th>Time</th>\n",
       "      <th>Length</th>\n",
       "      <th>Start</th>\n",
       "      <th>End</th>\n",
       "      <th>Start_Day</th>\n",
       "      <th>Start_Hour</th>\n",
       "      <th>Start_Min</th>\n",
       "      <th>Current_Day</th>\n",
       "      <th>Current_Hour</th>\n",
       "      <th>Current_Min</th>\n",
       "      <th>End_Day</th>\n",
       "      <th>End_Hour</th>\n",
       "      <th>End_Min</th>\n",
       "      <th>Start_Sec</th>\n",
       "      <th>Current_Sec</th>\n",
       "      <th>End_Sec</th>\n",
       "    </tr>\n",
       "  </thead>\n",
       "  <tbody>\n",
       "    <tr>\n",
       "      <th>0</th>\n",
       "      <td>41.63358</td>\n",
       "      <td>-70.91505</td>\n",
       "      <td>2019-01-13 02:56:14</td>\n",
       "      <td>448</td>\n",
       "      <td>2019-01-13 02:56:14</td>\n",
       "      <td>2019-01-13 14:51:23</td>\n",
       "      <td>13</td>\n",
       "      <td>2</td>\n",
       "      <td>56</td>\n",
       "      <td>13</td>\n",
       "      <td>2</td>\n",
       "      <td>56</td>\n",
       "      <td>13</td>\n",
       "      <td>14</td>\n",
       "      <td>51</td>\n",
       "      <td>14</td>\n",
       "      <td>14</td>\n",
       "      <td>23</td>\n",
       "    </tr>\n",
       "    <tr>\n",
       "      <th>1</th>\n",
       "      <td>41.63173</td>\n",
       "      <td>-70.91267</td>\n",
       "      <td>2019-01-13 02:57:33</td>\n",
       "      <td>448</td>\n",
       "      <td>2019-01-13 02:56:14</td>\n",
       "      <td>2019-01-13 14:51:23</td>\n",
       "      <td>13</td>\n",
       "      <td>2</td>\n",
       "      <td>56</td>\n",
       "      <td>13</td>\n",
       "      <td>2</td>\n",
       "      <td>57</td>\n",
       "      <td>13</td>\n",
       "      <td>14</td>\n",
       "      <td>51</td>\n",
       "      <td>14</td>\n",
       "      <td>33</td>\n",
       "      <td>23</td>\n",
       "    </tr>\n",
       "    <tr>\n",
       "      <th>2</th>\n",
       "      <td>41.63008</td>\n",
       "      <td>-70.91059</td>\n",
       "      <td>2019-01-13 02:58:43</td>\n",
       "      <td>448</td>\n",
       "      <td>2019-01-13 02:56:14</td>\n",
       "      <td>2019-01-13 14:51:23</td>\n",
       "      <td>13</td>\n",
       "      <td>2</td>\n",
       "      <td>56</td>\n",
       "      <td>13</td>\n",
       "      <td>2</td>\n",
       "      <td>58</td>\n",
       "      <td>13</td>\n",
       "      <td>14</td>\n",
       "      <td>51</td>\n",
       "      <td>14</td>\n",
       "      <td>43</td>\n",
       "      <td>23</td>\n",
       "    </tr>\n",
       "    <tr>\n",
       "      <th>3</th>\n",
       "      <td>41.62832</td>\n",
       "      <td>-70.90864</td>\n",
       "      <td>2019-01-13 02:59:54</td>\n",
       "      <td>448</td>\n",
       "      <td>2019-01-13 02:56:14</td>\n",
       "      <td>2019-01-13 14:51:23</td>\n",
       "      <td>13</td>\n",
       "      <td>2</td>\n",
       "      <td>56</td>\n",
       "      <td>13</td>\n",
       "      <td>2</td>\n",
       "      <td>59</td>\n",
       "      <td>13</td>\n",
       "      <td>14</td>\n",
       "      <td>51</td>\n",
       "      <td>14</td>\n",
       "      <td>54</td>\n",
       "      <td>23</td>\n",
       "    </tr>\n",
       "    <tr>\n",
       "      <th>4</th>\n",
       "      <td>41.62800</td>\n",
       "      <td>-70.90838</td>\n",
       "      <td>2019-01-13 03:00:04</td>\n",
       "      <td>448</td>\n",
       "      <td>2019-01-13 02:56:14</td>\n",
       "      <td>2019-01-13 14:51:23</td>\n",
       "      <td>13</td>\n",
       "      <td>2</td>\n",
       "      <td>56</td>\n",
       "      <td>13</td>\n",
       "      <td>3</td>\n",
       "      <td>0</td>\n",
       "      <td>13</td>\n",
       "      <td>14</td>\n",
       "      <td>51</td>\n",
       "      <td>14</td>\n",
       "      <td>4</td>\n",
       "      <td>23</td>\n",
       "    </tr>\n",
       "    <tr>\n",
       "      <th>...</th>\n",
       "      <td>...</td>\n",
       "      <td>...</td>\n",
       "      <td>...</td>\n",
       "      <td>...</td>\n",
       "      <td>...</td>\n",
       "      <td>...</td>\n",
       "      <td>...</td>\n",
       "      <td>...</td>\n",
       "      <td>...</td>\n",
       "      <td>...</td>\n",
       "      <td>...</td>\n",
       "      <td>...</td>\n",
       "      <td>...</td>\n",
       "      <td>...</td>\n",
       "      <td>...</td>\n",
       "      <td>...</td>\n",
       "      <td>...</td>\n",
       "      <td>...</td>\n",
       "    </tr>\n",
       "    <tr>\n",
       "      <th>270824</th>\n",
       "      <td>36.93333</td>\n",
       "      <td>-76.04850</td>\n",
       "      <td>2019-01-07 18:25:40</td>\n",
       "      <td>36</td>\n",
       "      <td>2019-01-07 17:45:08</td>\n",
       "      <td>2019-01-07 18:30:57</td>\n",
       "      <td>7</td>\n",
       "      <td>17</td>\n",
       "      <td>45</td>\n",
       "      <td>7</td>\n",
       "      <td>18</td>\n",
       "      <td>25</td>\n",
       "      <td>7</td>\n",
       "      <td>18</td>\n",
       "      <td>30</td>\n",
       "      <td>8</td>\n",
       "      <td>40</td>\n",
       "      <td>57</td>\n",
       "    </tr>\n",
       "    <tr>\n",
       "      <th>270825</th>\n",
       "      <td>36.93117</td>\n",
       "      <td>-76.05750</td>\n",
       "      <td>2019-01-07 18:26:57</td>\n",
       "      <td>36</td>\n",
       "      <td>2019-01-07 17:45:08</td>\n",
       "      <td>2019-01-07 18:30:57</td>\n",
       "      <td>7</td>\n",
       "      <td>17</td>\n",
       "      <td>45</td>\n",
       "      <td>7</td>\n",
       "      <td>18</td>\n",
       "      <td>26</td>\n",
       "      <td>7</td>\n",
       "      <td>18</td>\n",
       "      <td>30</td>\n",
       "      <td>8</td>\n",
       "      <td>57</td>\n",
       "      <td>57</td>\n",
       "    </tr>\n",
       "    <tr>\n",
       "      <th>270826</th>\n",
       "      <td>36.92800</td>\n",
       "      <td>-76.06717</td>\n",
       "      <td>2019-01-07 18:28:21</td>\n",
       "      <td>36</td>\n",
       "      <td>2019-01-07 17:45:08</td>\n",
       "      <td>2019-01-07 18:30:57</td>\n",
       "      <td>7</td>\n",
       "      <td>17</td>\n",
       "      <td>45</td>\n",
       "      <td>7</td>\n",
       "      <td>18</td>\n",
       "      <td>28</td>\n",
       "      <td>7</td>\n",
       "      <td>18</td>\n",
       "      <td>30</td>\n",
       "      <td>8</td>\n",
       "      <td>21</td>\n",
       "      <td>57</td>\n",
       "    </tr>\n",
       "    <tr>\n",
       "      <th>270827</th>\n",
       "      <td>36.92517</td>\n",
       "      <td>-76.07550</td>\n",
       "      <td>2019-01-07 18:29:33</td>\n",
       "      <td>36</td>\n",
       "      <td>2019-01-07 17:45:08</td>\n",
       "      <td>2019-01-07 18:30:57</td>\n",
       "      <td>7</td>\n",
       "      <td>17</td>\n",
       "      <td>45</td>\n",
       "      <td>7</td>\n",
       "      <td>18</td>\n",
       "      <td>29</td>\n",
       "      <td>7</td>\n",
       "      <td>18</td>\n",
       "      <td>30</td>\n",
       "      <td>8</td>\n",
       "      <td>33</td>\n",
       "      <td>57</td>\n",
       "    </tr>\n",
       "    <tr>\n",
       "      <th>270828</th>\n",
       "      <td>36.92183</td>\n",
       "      <td>-76.08517</td>\n",
       "      <td>2019-01-07 18:30:57</td>\n",
       "      <td>36</td>\n",
       "      <td>2019-01-07 17:45:08</td>\n",
       "      <td>2019-01-07 18:30:57</td>\n",
       "      <td>7</td>\n",
       "      <td>17</td>\n",
       "      <td>45</td>\n",
       "      <td>7</td>\n",
       "      <td>18</td>\n",
       "      <td>30</td>\n",
       "      <td>7</td>\n",
       "      <td>18</td>\n",
       "      <td>30</td>\n",
       "      <td>8</td>\n",
       "      <td>57</td>\n",
       "      <td>57</td>\n",
       "    </tr>\n",
       "  </tbody>\n",
       "</table>\n",
       "<p>270829 rows × 18 columns</p>\n",
       "</div>"
      ],
      "text/plain": [
       "             Lat      Long                 Time  Length                Start  \\\n",
       "0       41.63358 -70.91505  2019-01-13 02:56:14     448  2019-01-13 02:56:14   \n",
       "1       41.63173 -70.91267  2019-01-13 02:57:33     448  2019-01-13 02:56:14   \n",
       "2       41.63008 -70.91059  2019-01-13 02:58:43     448  2019-01-13 02:56:14   \n",
       "3       41.62832 -70.90864  2019-01-13 02:59:54     448  2019-01-13 02:56:14   \n",
       "4       41.62800 -70.90838  2019-01-13 03:00:04     448  2019-01-13 02:56:14   \n",
       "...          ...       ...                  ...     ...                  ...   \n",
       "270824  36.93333 -76.04850  2019-01-07 18:25:40      36  2019-01-07 17:45:08   \n",
       "270825  36.93117 -76.05750  2019-01-07 18:26:57      36  2019-01-07 17:45:08   \n",
       "270826  36.92800 -76.06717  2019-01-07 18:28:21      36  2019-01-07 17:45:08   \n",
       "270827  36.92517 -76.07550  2019-01-07 18:29:33      36  2019-01-07 17:45:08   \n",
       "270828  36.92183 -76.08517  2019-01-07 18:30:57      36  2019-01-07 17:45:08   \n",
       "\n",
       "                        End  Start_Day  Start_Hour  Start_Min  Current_Day  \\\n",
       "0       2019-01-13 14:51:23         13           2         56           13   \n",
       "1       2019-01-13 14:51:23         13           2         56           13   \n",
       "2       2019-01-13 14:51:23         13           2         56           13   \n",
       "3       2019-01-13 14:51:23         13           2         56           13   \n",
       "4       2019-01-13 14:51:23         13           2         56           13   \n",
       "...                     ...        ...         ...        ...          ...   \n",
       "270824  2019-01-07 18:30:57          7          17         45            7   \n",
       "270825  2019-01-07 18:30:57          7          17         45            7   \n",
       "270826  2019-01-07 18:30:57          7          17         45            7   \n",
       "270827  2019-01-07 18:30:57          7          17         45            7   \n",
       "270828  2019-01-07 18:30:57          7          17         45            7   \n",
       "\n",
       "        Current_Hour  Current_Min  End_Day  End_Hour  End_Min  Start_Sec  \\\n",
       "0                  2           56       13        14       51         14   \n",
       "1                  2           57       13        14       51         14   \n",
       "2                  2           58       13        14       51         14   \n",
       "3                  2           59       13        14       51         14   \n",
       "4                  3            0       13        14       51         14   \n",
       "...              ...          ...      ...       ...      ...        ...   \n",
       "270824            18           25        7        18       30          8   \n",
       "270825            18           26        7        18       30          8   \n",
       "270826            18           28        7        18       30          8   \n",
       "270827            18           29        7        18       30          8   \n",
       "270828            18           30        7        18       30          8   \n",
       "\n",
       "        Current_Sec  End_Sec  \n",
       "0                14       23  \n",
       "1                33       23  \n",
       "2                43       23  \n",
       "3                54       23  \n",
       "4                 4       23  \n",
       "...             ...      ...  \n",
       "270824           40       57  \n",
       "270825           57       57  \n",
       "270826           21       57  \n",
       "270827           33       57  \n",
       "270828           57       57  \n",
       "\n",
       "[270829 rows x 18 columns]"
      ]
     },
     "execution_count": 5,
     "metadata": {},
     "output_type": "execute_result"
    }
   ],
   "source": [
    "all_test_data"
   ]
  },
  {
   "cell_type": "markdown",
   "metadata": {},
   "source": [
    "# Estimated Hour "
   ]
  },
  {
   "cell_type": "code",
   "execution_count": 37,
   "metadata": {},
   "outputs": [],
   "source": [
    "X = all_train_data[['Lat', 'Long']]\n",
    "y = all_train_data[['Current_Hour']]"
   ]
  },
  {
   "cell_type": "code",
   "execution_count": 32,
   "metadata": {},
   "outputs": [],
   "source": [
    "idx = np.linspace(0, len(all_train_data)-1, 400, dtype=int)\n",
    "# X = X[:100]\n",
    "# y = y[:100]"
   ]
  },
  {
   "cell_type": "code",
   "execution_count": 33,
   "metadata": {},
   "outputs": [
    {
     "data": {
      "text/plain": [
       "array([      0,    8872,   17744,   26616,   35489,   44361,   53233,\n",
       "         62106,   70978,   79850,   88722,   97595,  106467,  115339,\n",
       "        124212,  133084,  141956,  150828,  159701,  168573,  177445,\n",
       "        186318,  195190,  204062,  212934,  221807,  230679,  239551,\n",
       "        248424,  257296,  266168,  275040,  283913,  292785,  301657,\n",
       "        310530,  319402,  328274,  337146,  346019,  354891,  363763,\n",
       "        372636,  381508,  390380,  399252,  408125,  416997,  425869,\n",
       "        434742,  443614,  452486,  461358,  470231,  479103,  487975,\n",
       "        496848,  505720,  514592,  523465,  532337,  541209,  550081,\n",
       "        558954,  567826,  576698,  585571,  594443,  603315,  612187,\n",
       "        621060,  629932,  638804,  647677,  656549,  665421,  674293,\n",
       "        683166,  692038,  700910,  709783,  718655,  727527,  736399,\n",
       "        745272,  754144,  763016,  771889,  780761,  789633,  798505,\n",
       "        807378,  816250,  825122,  833995,  842867,  851739,  860611,\n",
       "        869484,  878356,  887228,  896101,  904973,  913845,  922717,\n",
       "        931590,  940462,  949334,  958207,  967079,  975951,  984823,\n",
       "        993696, 1002568, 1011440, 1020313, 1029185, 1038057, 1046930,\n",
       "       1055802, 1064674, 1073546, 1082419, 1091291, 1100163, 1109036,\n",
       "       1117908, 1126780, 1135652, 1144525, 1153397, 1162269, 1171142,\n",
       "       1180014, 1188886, 1197758, 1206631, 1215503, 1224375, 1233248,\n",
       "       1242120, 1250992, 1259864, 1268737, 1277609, 1286481, 1295354,\n",
       "       1304226, 1313098, 1321970, 1330843, 1339715, 1348587, 1357460,\n",
       "       1366332, 1375204, 1384076, 1392949, 1401821, 1410693, 1419566,\n",
       "       1428438, 1437310, 1446182, 1455055, 1463927, 1472799, 1481672,\n",
       "       1490544, 1499416, 1508288, 1517161, 1526033, 1534905, 1543778,\n",
       "       1552650, 1561522, 1570395, 1579267, 1588139, 1597011, 1605884,\n",
       "       1614756, 1623628, 1632501, 1641373, 1650245, 1659117, 1667990,\n",
       "       1676862, 1685734, 1694607, 1703479, 1712351, 1721223, 1730096,\n",
       "       1738968, 1747840, 1756713, 1765585, 1774457, 1783329, 1792202,\n",
       "       1801074, 1809946, 1818819, 1827691, 1836563, 1845435, 1854308,\n",
       "       1863180, 1872052, 1880925, 1889797, 1898669, 1907541, 1916414,\n",
       "       1925286, 1934158, 1943031, 1951903, 1960775, 1969647, 1978520,\n",
       "       1987392, 1996264, 2005137, 2014009, 2022881, 2031754, 2040626,\n",
       "       2049498, 2058370, 2067243, 2076115, 2084987, 2093860, 2102732,\n",
       "       2111604, 2120476, 2129349, 2138221, 2147093, 2155966, 2164838,\n",
       "       2173710, 2182582, 2191455, 2200327, 2209199, 2218072, 2226944,\n",
       "       2235816, 2244688, 2253561, 2262433, 2271305, 2280178, 2289050,\n",
       "       2297922, 2306794, 2315667, 2324539, 2333411, 2342284, 2351156,\n",
       "       2360028, 2368900, 2377773, 2386645, 2395517, 2404390, 2413262,\n",
       "       2422134, 2431006, 2439879, 2448751, 2457623, 2466496, 2475368,\n",
       "       2484240, 2493112, 2501985, 2510857, 2519729, 2528602, 2537474,\n",
       "       2546346, 2555219, 2564091, 2572963, 2581835, 2590708, 2599580,\n",
       "       2608452, 2617325, 2626197, 2635069, 2643941, 2652814, 2661686,\n",
       "       2670558, 2679431, 2688303, 2697175, 2706047, 2714920, 2723792,\n",
       "       2732664, 2741537, 2750409, 2759281, 2768153, 2777026, 2785898,\n",
       "       2794770, 2803643, 2812515, 2821387, 2830259, 2839132, 2848004,\n",
       "       2856876, 2865749, 2874621, 2883493, 2892365, 2901238, 2910110,\n",
       "       2918982, 2927855, 2936727, 2945599, 2954471, 2963344, 2972216,\n",
       "       2981088, 2989961, 2998833, 3007705, 3016577, 3025450, 3034322,\n",
       "       3043194, 3052067, 3060939, 3069811, 3078684, 3087556, 3096428,\n",
       "       3105300, 3114173, 3123045, 3131917, 3140790, 3149662, 3158534,\n",
       "       3167406, 3176279, 3185151, 3194023, 3202896, 3211768, 3220640,\n",
       "       3229512, 3238385, 3247257, 3256129, 3265002, 3273874, 3282746,\n",
       "       3291618, 3300491, 3309363, 3318235, 3327108, 3335980, 3344852,\n",
       "       3353724, 3362597, 3371469, 3380341, 3389214, 3398086, 3406958,\n",
       "       3415830, 3424703, 3433575, 3442447, 3451320, 3460192, 3469064,\n",
       "       3477936, 3486809, 3495681, 3504553, 3513426, 3522298, 3531170,\n",
       "       3540043])"
      ]
     },
     "execution_count": 33,
     "metadata": {},
     "output_type": "execute_result"
    }
   ],
   "source": [
    "idx"
   ]
  },
  {
   "cell_type": "code",
   "execution_count": 38,
   "metadata": {},
   "outputs": [],
   "source": [
    "X = X.to_numpy()[idx]\n",
    "y = y.to_numpy()[idx]"
   ]
  },
  {
   "cell_type": "code",
   "execution_count": 42,
   "metadata": {},
   "outputs": [
    {
     "name": "stdout",
     "output_type": "stream",
     "text": [
      "[LibSVM]"
     ]
    },
    {
     "name": "stderr",
     "output_type": "stream",
     "text": [
      "/opt/conda/lib/python3.7/site-packages/sklearn/utils/validation.py:724: DataConversionWarning: A column-vector y was passed when a 1d array was expected. Please change the shape of y to (n_samples, ), for example using ravel().\n",
      "  y = column_or_1d(y, warn=True)\n"
     ]
    },
    {
     "data": {
      "text/plain": [
       "NuSVC(cache_size=200, class_weight=None, coef0=0.0,\n",
       "      decision_function_shape='ovr', degree=3, gamma='scale', kernel='rbf',\n",
       "      max_iter=-1, nu=0.1, probability=False, random_state=None, shrinking=True,\n",
       "      tol=0.001, verbose=2)"
      ]
     },
     "execution_count": 42,
     "metadata": {},
     "output_type": "execute_result"
    }
   ],
   "source": [
    "# fit the model\n",
    "clf = svm.NuSVC(gamma='scale', verbose=2, nu=0.1)\n",
    "clf.fit(X,y)\n"
   ]
  },
  {
   "cell_type": "code",
   "execution_count": 51,
   "metadata": {},
   "outputs": [
    {
     "data": {
      "text/plain": [
       "[41.63358, -70.91505]"
      ]
     },
     "execution_count": 51,
     "metadata": {},
     "output_type": "execute_result"
    }
   ],
   "source": [
    "X_test = all_test_data[['Lat','Long']].to_numpy()\n",
    "\n",
    "X_test[0].tolist()"
   ]
  },
  {
   "cell_type": "code",
   "execution_count": 66,
   "metadata": {},
   "outputs": [],
   "source": [
    "pred_hour = []\n",
    "for sample in X_test:\n",
    "    pred = clf.predict([sample.tolist()])\n",
    "    pred_hour.append(pred[0])"
   ]
  },
  {
   "cell_type": "code",
   "execution_count": 67,
   "metadata": {},
   "outputs": [],
   "source": [
    "EstimatedArrival = pd.DataFrame({'Hour': pred_hour}, columns=['Hour'])"
   ]
  },
  {
   "cell_type": "code",
   "execution_count": 71,
   "metadata": {},
   "outputs": [],
   "source": [
    "from sklearn.metrics import mean_absolute_error\n",
    "hour_error = mean_absolute_error(pred_hour, all_test_data['End_Hour'])"
   ]
  },
  {
   "cell_type": "code",
   "execution_count": 72,
   "metadata": {},
   "outputs": [
    {
     "data": {
      "text/plain": [
       "9.43422602453947"
      ]
     },
     "execution_count": 72,
     "metadata": {},
     "output_type": "execute_result"
    }
   ],
   "source": [
    "hour_error"
   ]
  },
  {
   "cell_type": "code",
   "execution_count": 76,
   "metadata": {},
   "outputs": [
    {
     "data": {
      "text/plain": [
       "<matplotlib.collections.PathCollection at 0x7f1867eb3710>"
      ]
     },
     "execution_count": 76,
     "metadata": {},
     "output_type": "execute_result"
    },
    {
     "data": {
      "image/png": "[encoded data removed]",
      "text/plain": [
       "<Figure size 1440x432 with 1 Axes>"
      ]
     },
     "metadata": {
      "needs_background": "light"
     },
     "output_type": "display_data"
    }
   ],
   "source": [
    "plt.figure(figsize=(20,6))\n",
    "plt.scatter(np.arange(len(all_test_data)), pred_hour, color='r', label='pred')\n",
    "plt.scatter(np.arange(len(all_test_data)), all_test_data['End_Hour'], color='g', label='acc')"
   ]
  },
  {
   "cell_type": "code",
   "execution_count": null,
   "metadata": {},
   "outputs": [],
   "source": []
  },
  {
   "cell_type": "markdown",
   "metadata": {},
   "source": [
    "# Estimated Day"
   ]
  },
  {
   "cell_type": "code",
   "execution_count": 77,
   "metadata": {},
   "outputs": [],
   "source": [
    "y2 = all_train_data['End_Day']"
   ]
  },
  {
   "cell_type": "code",
   "execution_count": 79,
   "metadata": {},
   "outputs": [
    {
     "data": {
      "text/plain": [
       "{1,\n",
       " 2,\n",
       " 3,\n",
       " 4,\n",
       " 5,\n",
       " 6,\n",
       " 7,\n",
       " 8,\n",
       " 9,\n",
       " 10,\n",
       " 11,\n",
       " 12,\n",
       " 13,\n",
       " 14,\n",
       " 15,\n",
       " 16,\n",
       " 17,\n",
       " 18,\n",
       " 19,\n",
       " 20,\n",
       " 21,\n",
       " 22,\n",
       " 23,\n",
       " 24,\n",
       " 25,\n",
       " 26,\n",
       " 27,\n",
       " 28,\n",
       " 29,\n",
       " 30,\n",
       " 31}"
      ]
     },
     "execution_count": 79,
     "metadata": {},
     "output_type": "execute_result"
    }
   ],
   "source": [
    "set(y2)"
   ]
  },
  {
   "cell_type": "code",
   "execution_count": 81,
   "metadata": {},
   "outputs": [
    {
     "name": "stdout",
     "output_type": "stream",
     "text": [
      "[LibSVM]"
     ]
    },
    {
     "data": {
      "text/plain": [
       "NuSVC(cache_size=200, class_weight=None, coef0=0.0,\n",
       "      decision_function_shape='ovr', degree=3, gamma='scale', kernel='rbf',\n",
       "      max_iter=-1, nu=0.1, probability=False, random_state=None, shrinking=True,\n",
       "      tol=0.001, verbose=2)"
      ]
     },
     "execution_count": 81,
     "metadata": {},
     "output_type": "execute_result"
    }
   ],
   "source": [
    "# fit the model\n",
    "y2 = all_train_data['End_Day'].to_numpy()\n",
    "clf_day = svm.NuSVC(gamma='scale', verbose=2, nu=0.1)\n",
    "clf_day.fit(X,y2[idx])\n"
   ]
  },
  {
   "cell_type": "code",
   "execution_count": 86,
   "metadata": {},
   "outputs": [],
   "source": [
    "pred_day = []\n",
    "for sample in X_test:\n",
    "    pred = clf_day.predict([sample.tolist()])\n",
    "    pred_day.append(pred[0])"
   ]
  },
  {
   "cell_type": "code",
   "execution_count": 87,
   "metadata": {},
   "outputs": [],
   "source": [
    "EstimatedArrival['Day'] = pred_day"
   ]
  },
  {
   "cell_type": "code",
   "execution_count": 90,
   "metadata": {},
   "outputs": [],
   "source": [
    "day_error = mean_absolute_error(pred_day, all_test_data['End_Day'])"
   ]
  },
  {
   "cell_type": "code",
   "execution_count": 91,
   "metadata": {},
   "outputs": [
    {
     "data": {
      "text/plain": [
       "<matplotlib.collections.PathCollection at 0x7f185059b550>"
      ]
     },
     "execution_count": 91,
     "metadata": {},
     "output_type": "execute_result"
    },
    {
     "data": {
      "image/png": "[encoded data removed]",
      "text/plain": [
       "<Figure size 1440x432 with 1 Axes>"
      ]
     },
     "metadata": {
      "needs_background": "light"
     },
     "output_type": "display_data"
    }
   ],
   "source": [
    "plt.figure(figsize=(20,6))\n",
    "plt.scatter(np.arange(len(all_test_data)), pred_day, color='r', label='pred')\n",
    "plt.scatter(np.arange(len(all_test_data)), all_test_data['End_Day'], color='g', label='acc')"
   ]
  },
  {
   "cell_type": "markdown",
   "metadata": {},
   "source": [
    "# Estimated Minute Prediction"
   ]
  },
  {
   "cell_type": "code",
   "execution_count": 97,
   "metadata": {},
   "outputs": [],
   "source": [
    "y3 = all_train_data['End_Min'].to_numpy()\n",
    "y3 = y3[idx]"
   ]
  },
  {
   "cell_type": "code",
   "execution_count": 132,
   "metadata": {},
   "outputs": [
    {
     "name": "stdout",
     "output_type": "stream",
     "text": [
      "[LibSVM]"
     ]
    },
    {
     "data": {
      "text/plain": [
       "NuSVC(cache_size=200, class_weight=None, coef0=0.0,\n",
       "      decision_function_shape='ovr', degree=3, gamma='auto', kernel='rbf',\n",
       "      max_iter=-1, nu=0.006, probability=False, random_state=None,\n",
       "      shrinking=True, tol=0.001, verbose=2)"
      ]
     },
     "execution_count": 132,
     "metadata": {},
     "output_type": "execute_result"
    }
   ],
   "source": [
    "clf_min = svm.NuSVC(gamma='auto', verbose=2, nu=0.006)\n",
    "clf_min.fit(X,y3)"
   ]
  },
  {
   "cell_type": "code",
   "execution_count": 121,
   "metadata": {},
   "outputs": [],
   "source": [
    "pred_min = []\n",
    "for sample in X_test:\n",
    "    pred = clf_min.predict([sample.tolist()])\n",
    "    pred_min.append(pred[0])"
   ]
  },
  {
   "cell_type": "code",
   "execution_count": 122,
   "metadata": {},
   "outputs": [],
   "source": [
    "EstimatedArrival['Min'] = pred_min"
   ]
  },
  {
   "cell_type": "code",
   "execution_count": 123,
   "metadata": {},
   "outputs": [],
   "source": [
    "min_error = mean_absolute_error(pred_min, all_test_data['End_Min'])"
   ]
  },
  {
   "cell_type": "code",
   "execution_count": 124,
   "metadata": {},
   "outputs": [
    {
     "data": {
      "text/plain": [
       "18.329255729630134"
      ]
     },
     "execution_count": 124,
     "metadata": {},
     "output_type": "execute_result"
    }
   ],
   "source": [
    "min_error"
   ]
  },
  {
   "cell_type": "code",
   "execution_count": 125,
   "metadata": {},
   "outputs": [
    {
     "data": {
      "text/plain": [
       "<matplotlib.collections.PathCollection at 0x7f184a2fca90>"
      ]
     },
     "execution_count": 125,
     "metadata": {},
     "output_type": "execute_result"
    },
    {
     "data": {
      "image/png": "[encoded data removed]",
      "text/plain": [
       "<Figure size 1440x432 with 1 Axes>"
      ]
     },
     "metadata": {
      "needs_background": "light"
     },
     "output_type": "display_data"
    }
   ],
   "source": [
    "plt.figure(figsize=(20,6))\n",
    "plt.scatter(np.arange(len(all_test_data)), pred_min, color='r', label='pred')\n",
    "plt.scatter(np.arange(len(all_test_data)), all_test_data['End_Min'], color='g', label='acc')"
   ]
  },
  {
   "cell_type": "markdown",
   "metadata": {},
   "source": [
    "# Estimated Seconds "
   ]
  },
  {
   "cell_type": "code",
   "execution_count": 127,
   "metadata": {},
   "outputs": [],
   "source": [
    "y4 = all_train_data['End_Sec'].to_numpy()\n",
    "y4 = y4[idx]"
   ]
  },
  {
   "cell_type": "code",
   "execution_count": 129,
   "metadata": {},
   "outputs": [
    {
     "data": {
      "text/plain": [
       "{0,\n",
       " 1,\n",
       " 2,\n",
       " 3,\n",
       " 4,\n",
       " 5,\n",
       " 6,\n",
       " 7,\n",
       " 8,\n",
       " 9,\n",
       " 10,\n",
       " 11,\n",
       " 12,\n",
       " 13,\n",
       " 14,\n",
       " 15,\n",
       " 16,\n",
       " 17,\n",
       " 18,\n",
       " 19,\n",
       " 20,\n",
       " 21,\n",
       " 22,\n",
       " 23,\n",
       " 24,\n",
       " 25,\n",
       " 26,\n",
       " 27,\n",
       " 28,\n",
       " 29,\n",
       " 30,\n",
       " 31,\n",
       " 32,\n",
       " 33,\n",
       " 34,\n",
       " 35,\n",
       " 36,\n",
       " 37,\n",
       " 38,\n",
       " 39,\n",
       " 40,\n",
       " 41,\n",
       " 42,\n",
       " 43,\n",
       " 44,\n",
       " 45,\n",
       " 46,\n",
       " 47,\n",
       " 48,\n",
       " 49,\n",
       " 50,\n",
       " 51,\n",
       " 52,\n",
       " 53,\n",
       " 54,\n",
       " 55,\n",
       " 56,\n",
       " 57,\n",
       " 58,\n",
       " 59}"
      ]
     },
     "execution_count": 129,
     "metadata": {},
     "output_type": "execute_result"
    }
   ],
   "source": [
    "set(y4)"
   ]
  },
  {
   "cell_type": "code",
   "execution_count": 147,
   "metadata": {},
   "outputs": [
    {
     "name": "stdout",
     "output_type": "stream",
     "text": [
      "[LibSVM]"
     ]
    },
    {
     "data": {
      "text/plain": [
       "NuSVC(cache_size=200, class_weight=None, coef0=0.0,\n",
       "      decision_function_shape='ovr', degree=3, gamma='auto', kernel='rbf',\n",
       "      max_iter=-1, nu=0.09, probability=False, random_state=None,\n",
       "      shrinking=True, tol=0.001, verbose=2)"
      ]
     },
     "execution_count": 147,
     "metadata": {},
     "output_type": "execute_result"
    }
   ],
   "source": [
    "clf_sec = svm.NuSVC(gamma='auto', verbose=2, nu=0.09)\n",
    "clf_sec.fit(X,y4)"
   ]
  },
  {
   "cell_type": "code",
   "execution_count": 148,
   "metadata": {},
   "outputs": [],
   "source": [
    "pred_sec = []\n",
    "for sample in X_test:\n",
    "    pred = clf_sec.predict([sample.tolist()])\n",
    "    pred_sec.append(pred[0])"
   ]
  },
  {
   "cell_type": "code",
   "execution_count": 149,
   "metadata": {},
   "outputs": [],
   "source": [
    "EstimatedArrival['Sec'] = pred_sec\n",
    "\n",
    "sec_error = mean_absolute_error(pred_sec, all_test_data['End_Sec'])"
   ]
  },
  {
   "cell_type": "code",
   "execution_count": 150,
   "metadata": {},
   "outputs": [
    {
     "data": {
      "text/plain": [
       "19.34951943846486"
      ]
     },
     "execution_count": 150,
     "metadata": {},
     "output_type": "execute_result"
    }
   ],
   "source": [
    "sec_error"
   ]
  },
  {
   "cell_type": "code",
   "execution_count": 151,
   "metadata": {},
   "outputs": [
    {
     "data": {
      "text/plain": [
       "<matplotlib.collections.PathCollection at 0x7f184988f150>"
      ]
     },
     "execution_count": 151,
     "metadata": {},
     "output_type": "execute_result"
    },
    {
     "data": {
      "image/png": "[encoded data removed]",
      "text/plain": [
       "<Figure size 1440x432 with 1 Axes>"
      ]
     },
     "metadata": {
      "needs_background": "light"
     },
     "output_type": "display_data"
    }
   ],
   "source": [
    "plt.figure(figsize=(20,6))\n",
    "plt.scatter(np.arange(len(all_test_data)), pred_sec, color='r', label='pred')\n",
    "plt.scatter(np.arange(len(all_test_data)), all_test_data['End_Sec'], color='g', label='acc')"
   ]
  },
  {
   "cell_type": "code",
   "execution_count": 152,
   "metadata": {},
   "outputs": [
    {
     "data": {
      "text/html": [
       "<div>\n",
       "<style scoped>\n",
       "    .dataframe tbody tr th:only-of-type {\n",
       "        vertical-align: middle;\n",
       "    }\n",
       "\n",
       "    .dataframe tbody tr th {\n",
       "        vertical-align: top;\n",
       "    }\n",
       "\n",
       "    .dataframe thead th {\n",
       "        text-align: right;\n",
       "    }\n",
       "</style>\n",
       "<table border=\"1\" class=\"dataframe\">\n",
       "  <thead>\n",
       "    <tr style=\"text-align: right;\">\n",
       "      <th></th>\n",
       "      <th>Hour</th>\n",
       "      <th>Day</th>\n",
       "      <th>Min</th>\n",
       "      <th>Sec</th>\n",
       "    </tr>\n",
       "  </thead>\n",
       "  <tbody>\n",
       "    <tr>\n",
       "      <th>0</th>\n",
       "      <td>9</td>\n",
       "      <td>13</td>\n",
       "      <td>14</td>\n",
       "      <td>7</td>\n",
       "    </tr>\n",
       "    <tr>\n",
       "      <th>1</th>\n",
       "      <td>9</td>\n",
       "      <td>13</td>\n",
       "      <td>14</td>\n",
       "      <td>7</td>\n",
       "    </tr>\n",
       "    <tr>\n",
       "      <th>2</th>\n",
       "      <td>9</td>\n",
       "      <td>13</td>\n",
       "      <td>14</td>\n",
       "      <td>7</td>\n",
       "    </tr>\n",
       "    <tr>\n",
       "      <th>3</th>\n",
       "      <td>9</td>\n",
       "      <td>13</td>\n",
       "      <td>14</td>\n",
       "      <td>7</td>\n",
       "    </tr>\n",
       "    <tr>\n",
       "      <th>4</th>\n",
       "      <td>9</td>\n",
       "      <td>13</td>\n",
       "      <td>14</td>\n",
       "      <td>7</td>\n",
       "    </tr>\n",
       "    <tr>\n",
       "      <th>...</th>\n",
       "      <td>...</td>\n",
       "      <td>...</td>\n",
       "      <td>...</td>\n",
       "      <td>...</td>\n",
       "    </tr>\n",
       "    <tr>\n",
       "      <th>270824</th>\n",
       "      <td>22</td>\n",
       "      <td>1</td>\n",
       "      <td>40</td>\n",
       "      <td>21</td>\n",
       "    </tr>\n",
       "    <tr>\n",
       "      <th>270825</th>\n",
       "      <td>22</td>\n",
       "      <td>1</td>\n",
       "      <td>40</td>\n",
       "      <td>21</td>\n",
       "    </tr>\n",
       "    <tr>\n",
       "      <th>270826</th>\n",
       "      <td>22</td>\n",
       "      <td>1</td>\n",
       "      <td>40</td>\n",
       "      <td>21</td>\n",
       "    </tr>\n",
       "    <tr>\n",
       "      <th>270827</th>\n",
       "      <td>22</td>\n",
       "      <td>1</td>\n",
       "      <td>40</td>\n",
       "      <td>21</td>\n",
       "    </tr>\n",
       "    <tr>\n",
       "      <th>270828</th>\n",
       "      <td>22</td>\n",
       "      <td>1</td>\n",
       "      <td>40</td>\n",
       "      <td>21</td>\n",
       "    </tr>\n",
       "  </tbody>\n",
       "</table>\n",
       "<p>270829 rows × 4 columns</p>\n",
       "</div>"
      ],
      "text/plain": [
       "        Hour  Day  Min  Sec\n",
       "0          9   13   14    7\n",
       "1          9   13   14    7\n",
       "2          9   13   14    7\n",
       "3          9   13   14    7\n",
       "4          9   13   14    7\n",
       "...      ...  ...  ...  ...\n",
       "270824    22    1   40   21\n",
       "270825    22    1   40   21\n",
       "270826    22    1   40   21\n",
       "270827    22    1   40   21\n",
       "270828    22    1   40   21\n",
       "\n",
       "[270829 rows x 4 columns]"
      ]
     },
     "execution_count": 152,
     "metadata": {},
     "output_type": "execute_result"
    }
   ],
   "source": [
    "EstimatedArrival"
   ]
  },
  {
   "cell_type": "code",
   "execution_count": 156,
   "metadata": {},
   "outputs": [],
   "source": [
    "import datetime\n",
    "from datetime import datetime\n",
    "\n",
    "def convert_to_day(estday, esthr, estmin, estsec):\n",
    "    return datetime(2019, 1, estday, esthr, estmin, estsec)"
   ]
  },
  {
   "cell_type": "code",
   "execution_count": 159,
   "metadata": {},
   "outputs": [],
   "source": [
    "est_arrival_object = []\n",
    "for i in EstimatedArrival.values:\n",
    "    obj = convert_to_day(i[1], i[0], i[2], i[3])\n",
    "    est_arrival_object.append(obj)\n",
    "result = pd.DataFrame(est_arrival_object, columns=['ETA'])\n",
    "result.to_csv(\"Pred_ETA_SVM.csv\",index=None)"
   ]
  },
  {
   "cell_type": "code",
   "execution_count": 160,
   "metadata": {},
   "outputs": [
    {
     "data": {
      "text/html": [
       "<div>\n",
       "<style scoped>\n",
       "    .dataframe tbody tr th:only-of-type {\n",
       "        vertical-align: middle;\n",
       "    }\n",
       "\n",
       "    .dataframe tbody tr th {\n",
       "        vertical-align: top;\n",
       "    }\n",
       "\n",
       "    .dataframe thead th {\n",
       "        text-align: right;\n",
       "    }\n",
       "</style>\n",
       "<table border=\"1\" class=\"dataframe\">\n",
       "  <thead>\n",
       "    <tr style=\"text-align: right;\">\n",
       "      <th></th>\n",
       "      <th>ETA</th>\n",
       "    </tr>\n",
       "  </thead>\n",
       "  <tbody>\n",
       "    <tr>\n",
       "      <th>0</th>\n",
       "      <td>2019-01-13 09:14:07</td>\n",
       "    </tr>\n",
       "    <tr>\n",
       "      <th>1</th>\n",
       "      <td>2019-01-13 09:14:07</td>\n",
       "    </tr>\n",
       "    <tr>\n",
       "      <th>2</th>\n",
       "      <td>2019-01-13 09:14:07</td>\n",
       "    </tr>\n",
       "    <tr>\n",
       "      <th>3</th>\n",
       "      <td>2019-01-13 09:14:07</td>\n",
       "    </tr>\n",
       "    <tr>\n",
       "      <th>4</th>\n",
       "      <td>2019-01-13 09:14:07</td>\n",
       "    </tr>\n",
       "    <tr>\n",
       "      <th>...</th>\n",
       "      <td>...</td>\n",
       "    </tr>\n",
       "    <tr>\n",
       "      <th>270824</th>\n",
       "      <td>2019-01-01 22:40:21</td>\n",
       "    </tr>\n",
       "    <tr>\n",
       "      <th>270825</th>\n",
       "      <td>2019-01-01 22:40:21</td>\n",
       "    </tr>\n",
       "    <tr>\n",
       "      <th>270826</th>\n",
       "      <td>2019-01-01 22:40:21</td>\n",
       "    </tr>\n",
       "    <tr>\n",
       "      <th>270827</th>\n",
       "      <td>2019-01-01 22:40:21</td>\n",
       "    </tr>\n",
       "    <tr>\n",
       "      <th>270828</th>\n",
       "      <td>2019-01-01 22:40:21</td>\n",
       "    </tr>\n",
       "  </tbody>\n",
       "</table>\n",
       "<p>270829 rows × 1 columns</p>\n",
       "</div>"
      ],
      "text/plain": [
       "                       ETA\n",
       "0      2019-01-13 09:14:07\n",
       "1      2019-01-13 09:14:07\n",
       "2      2019-01-13 09:14:07\n",
       "3      2019-01-13 09:14:07\n",
       "4      2019-01-13 09:14:07\n",
       "...                    ...\n",
       "270824 2019-01-01 22:40:21\n",
       "270825 2019-01-01 22:40:21\n",
       "270826 2019-01-01 22:40:21\n",
       "270827 2019-01-01 22:40:21\n",
       "270828 2019-01-01 22:40:21\n",
       "\n",
       "[270829 rows x 1 columns]"
      ]
     },
     "execution_count": 160,
     "metadata": {},
     "output_type": "execute_result"
    }
   ],
   "source": [
    "result"
   ]
  },
  {
   "cell_type": "code",
   "execution_count": null,
   "metadata": {},
   "outputs": [],
   "source": [
    "r"
   ]
  }
 ],
 "metadata": {
  "kernelspec": {
   "display_name": "Python 3",
   "language": "python",
   "name": "python3"
  },
  "language_info": {
   "codemirror_mode": {
    "name": "ipython",
    "version": 3
   },
   "file_extension": ".py",
   "mimetype": "text/x-python",
   "name": "python",
   "nbconvert_exporter": "python",
   "pygments_lexer": "ipython3",
   "version": "3.7.7"
  },
  "toc": {
   "base_numbering": 1,
   "nav_menu": {},
   "number_sections": false,
   "sideBar": false,
   "skip_h1_title": false,
   "title_cell": "Table of Contents",
   "title_sidebar": "Contents",
   "toc_cell": false,
   "toc_position": {},
   "toc_section_display": false,
   "toc_window_display": false
  }
 },
 "nbformat": 4,
 "nbformat_minor": 4
}
